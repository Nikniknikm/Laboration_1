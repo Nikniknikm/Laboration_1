{
  "nbformat": 4,
  "nbformat_minor": 0,
  "metadata": {
    "kernelspec": {
      "display_name": "Python 3",
      "language": "python",
      "name": "python3"
    },
    "language_info": {
      "codemirror_mode": {
        "name": "ipython",
        "version": 3
      },
      "file_extension": ".py",
      "mimetype": "text/x-python",
      "name": "python",
      "nbconvert_exporter": "python",
      "pygments_lexer": "ipython3",
      "version": "3.7.4"
    },
    "colab": {
      "name": "Kopia_Av_Inlämning_1.ipynb",
      "provenance": [],
      "collapsed_sections": [
        "OElCILxXdy0z",
        "ibaj9iLfdy0z",
        "Xuyg0tTpdy00",
        "Voi11kvgdy00"
      ],
      "toc_visible": true,
      "include_colab_link": true
    }
  },
  "cells": [
    {
      "cell_type": "markdown",
      "metadata": {
        "id": "view-in-github",
        "colab_type": "text"
      },
      "source": [
        "<a href=\"https://colab.research.google.com/github/Nikniknikm/Laboration_1/blob/master/Kopia_Av_Inl%C3%A4mning_1.ipynb\" target=\"_parent\"><img src=\"https://colab.research.google.com/assets/colab-badge.svg\" alt=\"Open In Colab\"/></a>"
      ]
    },
    {
      "cell_type": "markdown",
      "metadata": {
        "id": "bw-Vf-6pdy0s"
      },
      "source": [
        "# Inlämning laboration 1\n",
        "\n",
        "Vissa av uppgifterna i denna inlämning är inspirerade från följande källor:\n",
        "\n",
        "- MyMachineLearningCourse in Python, licensierad  under GNU General Public License v3.0\n",
        "- Software Carpentry Copyright ©Software Carpentry, http://software-carpentry.org/, licensierad under Creative Commons Attribution license,https://creativecommons.org/licenses/by/4.0/\n",
        "- Geo Python (© Copyright 2017 Tenkanen & Whipp, University of Helsinki) licensierad under Creative Commons Attribution-ShareAlike 4.0 International licence https://creativecommons.org/licenses/by-sa/4.0/legalcode.\n",
        "\n",
        "\n",
        "Denna laboration ska genomföras i par, när ni arbetar med laborationen ska ni vara noga med att spara era ändringar i GitHub. Det går att göra direkt från collaboratory genom att spara en kopia i ert repository. Detta är dels för att ni inte ska riskera att förlora något arbete men också för att det ska gå att följa ert arbete som lärare. När ni är färdiga ska länken till laborationen i collaboratory lämnas in i Studium. Endast en inlämning per grupp behövs. Det är också att rekommendera att infoga en knapp för att öppna filen i Collaboratory direkt från GitHub, detta får ni en fråga om när ni kopierar filen till GitHub, via arkivmenyn.\n",
        "\n",
        "Det finns totalt 12 uppgifter och frågor, samtliga ska besvaras för godkänt. "
      ]
    },
    {
      "cell_type": "markdown",
      "metadata": {
        "id": "D5FQ6hrkdy0x"
      },
      "source": [
        "## Uppgift 1\n",
        "Skriv ut dagens datum i formatet YYYY-MM-DD"
      ]
    },
    {
      "cell_type": "code",
      "metadata": {
        "colab": {
          "base_uri": "https://localhost:8080/"
        },
        "id": "m-lR6anl3EpM",
        "outputId": "ae648783-1b6a-4e56-cf61-40d93339921c"
      },
      "source": [
        "#1- Date\n",
        "import datetime\n",
        "x = datetime.date.today()\n",
        "\n",
        "print(x)"
      ],
      "execution_count": null,
      "outputs": [
        {
          "output_type": "stream",
          "text": [
            "2021-01-22\n"
          ],
          "name": "stdout"
        }
      ]
    },
    {
      "cell_type": "markdown",
      "metadata": {
        "id": "IHC2qeQYdy0y"
      },
      "source": [
        "## Uppgift 2  \n",
        "Definiera en funktion `max_of_three()` som tar tre olika nummer som argument och returnerar det största av dem, skriv ut resultatet."
      ]
    },
    {
      "cell_type": "code",
      "metadata": {
        "colab": {
          "base_uri": "https://localhost:8080/"
        },
        "id": "r0ZhfZthyxhC",
        "outputId": "93db30ea-9ebe-4e73-c40d-7a723da0bfbe"
      },
      "source": [
        "#2- Max_value\n",
        "\n",
        "import math\n",
        "list_number = [1,5,50]\n",
        "max_of_three = max(list_number)\n",
        "print (max_of_three)"
      ],
      "execution_count": null,
      "outputs": [
        {
          "output_type": "stream",
          "text": [
            "50\n"
          ],
          "name": "stdout"
        }
      ]
    },
    {
      "cell_type": "markdown",
      "metadata": {
        "id": "aJdpftCDdy0y"
      },
      "source": [
        "## Uppgift 3  \n",
        "Definiera en funktion `sum()` som summerar och en annan funktion `multiply()` som multiplicerar alla nummer i en lista, skriv ut resultatet \n",
        "\n",
        "**Ex:** `sum([1, 2, 3, 4])` ska returnera 10, och `multiply()([1, 2, 3, 4])` ska returnera 24."
      ]
    },
    {
      "cell_type": "code",
      "metadata": {
        "colab": {
          "base_uri": "https://localhost:8080/"
        },
        "id": "FA-mOvxL5uhl",
        "outputId": "1d84f8bf-1a9b-4cd4-fc41-df26054e80b9"
      },
      "source": [
        "#3a) sum function\n",
        "\n",
        "math_list =[1,2,3,4]\n",
        "'''\n",
        "def summery(x,y):\n",
        "    return x + y\n",
        "\n",
        "sum = summery(1,2)\n",
        "print (sum)\n",
        "'''\n",
        "math_list =[1,2,3,4]\n",
        "\n",
        "def sum_list(items):\n",
        "  sum_numbers = 0\n",
        "\n",
        "  for x in items:\n",
        "    sum_numbers += x\n",
        "  return sum_numbers\n",
        "\n",
        "print(sum_list(math_list))\n"
      ],
      "execution_count": 53,
      "outputs": [
        {
          "output_type": "stream",
          "text": [
            "10\n"
          ],
          "name": "stdout"
        }
      ]
    },
    {
      "cell_type": "code",
      "metadata": {
        "id": "eWGSgicD5rs4"
      },
      "source": [
        ""
      ],
      "execution_count": null,
      "outputs": []
    },
    {
      "cell_type": "code",
      "metadata": {
        "colab": {
          "base_uri": "https://localhost:8080/"
        },
        "id": "Xbq5a4Q2FL4E",
        "outputId": "3648edf9-bb49-4d50-c9e3-1de3bb977a96"
      },
      "source": [
        "#3b) multiply funktion\n",
        "math_list =[1,2,3,4]\n",
        "def multiply(math_list):  \n",
        "    total = 1\n",
        "    for x in math_list:\n",
        "        total *= x  \n",
        "    return total  \n",
        "print(multiply((math_list)))\n",
        "\n"
      ],
      "execution_count": 55,
      "outputs": [
        {
          "output_type": "stream",
          "text": [
            "24\n"
          ],
          "name": "stdout"
        }
      ]
    },
    {
      "cell_type": "markdown",
      "metadata": {
        "id": "PIu_mgHady0y"
      },
      "source": [
        "## Uppgift 4\n",
        "\n",
        "**a.** Definiera en funktion som tar ett antal (varierande) kommaseparerade nummer som argument och genererar en lista och en tuple som innehåller dessa nummer.\n",
        "\n",
        "**b.** Vad är skillnaden mellan en lista och en tuple i Python?"
      ]
    },
    {
      "cell_type": "code",
      "metadata": {
        "id": "XISUeP8B52hJ",
        "colab": {
          "base_uri": "https://localhost:8080/"
        },
        "outputId": "c7deac20-39fa-4a5d-a98d-d0a0e3a1bc5e"
      },
      "source": [
        "\n",
        "def list_maker(*a):\n",
        "  my_list = list(a)\n",
        "  tuple_list= tuple (a)\n",
        "\n",
        "  return  my_list, tuple_list\n",
        "\n",
        "list_maker(5, 4, 7, 8, 1)\n",
        "\n",
        "\n"
      ],
      "execution_count": 83,
      "outputs": [
        {
          "output_type": "execute_result",
          "data": {
            "text/plain": [
              "([5, 4, 7, 8, 1], (5, 4, 7, 8, 1))"
            ]
          },
          "metadata": {
            "tags": []
          },
          "execution_count": 83
        }
      ]
    },
    {
      "cell_type": "code",
      "metadata": {
        "id": "ZI1NVe5ZNWKM"
      },
      "source": [
        ""
      ],
      "execution_count": null,
      "outputs": []
    },
    {
      "cell_type": "code",
      "metadata": {
        "id": "zVs4ggW3HIVu"
      },
      "source": [
        ""
      ],
      "execution_count": null,
      "outputs": []
    },
    {
      "cell_type": "code",
      "metadata": {
        "id": "7M8oNAUHBikh"
      },
      "source": [
        "''' Skillnaden mellan en lista och tuple är att det inte går att ändra value i tuple vilket är möjligt i en lista. \n",
        "Med detta menas att efter att man har skapat tuple är det inte möjligt att addera, radera eller ändra värdet.\n",
        "'''"
      ],
      "execution_count": null,
      "outputs": []
    },
    {
      "cell_type": "markdown",
      "metadata": {
        "id": "aSOWyygGdy0y"
      },
      "source": [
        "## Uppgift 5 \n",
        "Skapa två olika tal som integers. Kalkylera produkten av dessa, om produkten är **högre** än 200, returnera då summan av de två talen,skriv ut resultatet. \n",
        "\n",
        "**Ex**\n",
        "~~~\n",
        "INPUT:  \n",
        "`number1 = 10`  \n",
        "`number2 = 20`\n",
        "\n",
        "RESULT:  \n",
        "The result is 200.\n",
        "~~~\n"
      ]
    },
    {
      "cell_type": "code",
      "metadata": {
        "colab": {
          "base_uri": "https://localhost:8080/"
        },
        "id": "QbEeI6Fh6P7v",
        "outputId": "cbd76c59-98fb-4ca9-c223-d20cf9d31d14"
      },
      "source": [
        "number1= 20\n",
        "number2= 20\n",
        "#print(number1*number2)\n",
        "if(number1*number2>200):\n",
        "  print(number1+number2)"
      ],
      "execution_count": 57,
      "outputs": [
        {
          "output_type": "stream",
          "text": [
            "40\n"
          ],
          "name": "stdout"
        }
      ]
    },
    {
      "cell_type": "code",
      "metadata": {
        "id": "-XUyLGBGEYZ0"
      },
      "source": [
        ""
      ],
      "execution_count": null,
      "outputs": []
    },
    {
      "cell_type": "markdown",
      "metadata": {
        "id": "OElCILxXdy0z"
      },
      "source": [
        "## Uppgift 6 \n",
        "**a.** Givet en sträng, skriv ut de bokstäver som finns på alla ojämna indexplatser. \n",
        "\n",
        "**b.** Utveckla ovanstående funktion så att mellanslag inte skrivs ut utan endast index med bokstäver. "
      ]
    },
    {
      "cell_type": "markdown",
      "metadata": {
        "id": "ibaj9iLfdy0z"
      },
      "source": [
        "## Uppgift 7\n",
        "**a** Skapa en sträng som innehåller 4 olika ord, separerade med ; Använd den inbyggda funktionen `split()`och skriv ut de fyra orden på varsin rad.\n",
        "\n",
        "**b** Varför var denna övning viktig inför framtida analys av strukturerad data?\n"
      ]
    },
    {
      "cell_type": "markdown",
      "metadata": {
        "id": "YIbeBwIFdy0z"
      },
      "source": [
        "## Uppgift 8"
      ]
    },
    {
      "cell_type": "markdown",
      "metadata": {
        "id": "BbWEjnhgdy0z"
      },
      "source": [
        "Beräkna inkomstskatten för några olika personer med olika inkomst, använd nedanstående tabell för att se reglerna för inkomstskatt för olika inkomster. Skriv ut varje persons inkomst och skatt på en egen rad. \n",
        "\n",
        "| Inkomst  | Skatt (%) |\n",
        "|----------|-----------|\n",
        "| <=10 000 |     0     |\n",
        "| <=30 000 |     20    |\n",
        "| > 30 000 |     40    |\n",
        "\n",
        "\n",
        "**Ex**\n",
        "\n",
        "~~~\n",
        "En person med en inkomst på 35000 ska betala 10 000*0 + 20 000*0,2 + 5000*0,4 = 6000 kr i skatt.\n",
        "~~~"
      ]
    },
    {
      "cell_type": "markdown",
      "metadata": {
        "id": "Xuyg0tTpdy00"
      },
      "source": [
        "## Uppgift 9\n",
        "\n",
        "**För att genomföra denna uppgift kan fler än ett kodblock behöva skapas.**\n",
        "\n",
        "Skapa en strängvariabel som du döper till name och spara ditt förnamn och efternamn i en enda sträng i denna variabel.\n",
        "\n",
        "Skapa en integervariabel som du döper till iceCreamRating och använd denna för att spara ettnummer mellan 0 till 10 som speglar hur mycket du tycker om glass.\n",
        "\n",
        "Koda sedan i Python något som ger ungefär denna output:\n",
        "\n",
        "Mitt namn är Elin Uppström och jag ger glassätning 7 poäng av 10 möjliga!\n",
        "\n",
        "**OBS!** Elin Uppström ska såklart bestå av innehållet i variabeln name och poängen ska komma från variabeln iceCreamRating"
      ]
    },
    {
      "cell_type": "markdown",
      "metadata": {
        "id": "Voi11kvgdy00"
      },
      "source": [
        "## Uppgift 10\n",
        "\n",
        "a. För att konvertera sekunder till sekunder, minuter och timmar kan följande metod användas med \"brute force\". \n",
        "~~~\n",
        "def convert(seconds): \n",
        "    seconds = seconds % (24 * 3600) \n",
        "    hour = seconds // 3600\n",
        "    seconds %= 3600\n",
        "    minutes = seconds // 60\n",
        "    seconds %= 60\n",
        "      \n",
        "    return \"%d:%02d:%02d\" % (hour, minutes, seconds) \n",
        "      \n",
        "# Driver program \n",
        "n = 12345\n",
        "print(convert(n)) \n",
        "\n",
        "~~~\n",
        "\n",
        "Istället för brute force, skapa två olika förslag på hur samma sak kan åstadkommas med hjälp av Pythons inbyggda bibliotek som ni hittar [här](https://docs.python.org/3/library/index.html).\n"
      ]
    },
    {
      "cell_type": "markdown",
      "metadata": {
        "id": "oNefubSwdy00"
      },
      "source": [
        "## Uppgift 11\n",
        "\n",
        "I filen som heter smhi_vaderdata.csv finns ett helt dyngs väderdata från Visby flygplats, nämligen från den 28 augusti 11.00 till den 29 augusti 11.00. I denna övning ska ni använda denna data och utföra ett antal uppgifter. För att importera den data som finns används ett externt bibliotek som heter pandas som vi kommer använda oss mycket av framöver. Denna gång får ni dock filen importerad åt er samt de olika temperaturerna inlagda i en lista. När ni sedan skriver er egen kod gör ni detta i ett nytt kodblock. \n",
        "\n",
        "a. Skapa tomma listor för olika typer av temperatur, exempelvis varmt, ljummet, kallt etc. Minst tre olika typer av temperaturer ska ingå. \n",
        "\n",
        "b. Iterera över listan och sortera in de olika temperaturerna i de skapade temperaturtyperna, \n",
        "\n",
        "**Ex** \n",
        "~~~\n",
        "temperatur över 18 grader ska till listan med varma temperaturer\n",
        "~~~\n",
        "\n",
        "c. Ange hur många timmar under dygnet de olika temperaturtyperna förekommit. \n",
        "\n",
        "**Ex**\n",
        "\n",
        "~~~\n",
        "Det var varmt fem timmar under dygnet.\n",
        "Det var ljummet åtta timmar under dygnet.\n",
        "Det var inte kallt någon timme under dygnet.\n",
        "~~~\n",
        "\n",
        "d. Förklara vilka argument `read_csv` kan ta och vad de två argument som skickas med i nedanstående kod betyder. \n",
        "\n",
        "e. Vad är den första kolumnen i den dataframe som skapas i koden nedan (ni måste köra koden för att resultatet ska synas.)"
      ]
    },
    {
      "cell_type": "code",
      "metadata": {
        "id": "1RP1FFR8dy00",
        "colab": {
          "base_uri": "https://localhost:8080/",
          "height": 426
        },
        "outputId": "9873f84d-c241-4350-87c7-9f323aca2013"
      },
      "source": [
        "#importerar pandas och hämtar data från csv-filen till en dataFrame\n",
        "import pandas as pd\n",
        "temperature_df= pd.read_csv(\"smhi_vaderdata.csv\", sep=';')\n",
        "temperature_df"
      ],
      "execution_count": null,
      "outputs": [
        {
          "output_type": "error",
          "ename": "FileNotFoundError",
          "evalue": "ignored",
          "traceback": [
            "\u001b[0;31m---------------------------------------------------------------------------\u001b[0m",
            "\u001b[0;31mFileNotFoundError\u001b[0m                         Traceback (most recent call last)",
            "\u001b[0;32m<ipython-input-6-48a760f01f1b>\u001b[0m in \u001b[0;36m<module>\u001b[0;34m()\u001b[0m\n\u001b[1;32m      1\u001b[0m \u001b[0;31m#importerar pandas och hämtar data från csv-filen till en dataFrame\u001b[0m\u001b[0;34m\u001b[0m\u001b[0;34m\u001b[0m\u001b[0;34m\u001b[0m\u001b[0m\n\u001b[1;32m      2\u001b[0m \u001b[0;32mimport\u001b[0m \u001b[0mpandas\u001b[0m \u001b[0;32mas\u001b[0m \u001b[0mpd\u001b[0m\u001b[0;34m\u001b[0m\u001b[0;34m\u001b[0m\u001b[0m\n\u001b[0;32m----> 3\u001b[0;31m \u001b[0mtemperature_df\u001b[0m\u001b[0;34m=\u001b[0m \u001b[0mpd\u001b[0m\u001b[0;34m.\u001b[0m\u001b[0mread_csv\u001b[0m\u001b[0;34m(\u001b[0m\u001b[0;34m\"smhi_vaderdata.csv\"\u001b[0m\u001b[0;34m,\u001b[0m \u001b[0msep\u001b[0m\u001b[0;34m=\u001b[0m\u001b[0;34m';'\u001b[0m\u001b[0;34m)\u001b[0m\u001b[0;34m\u001b[0m\u001b[0;34m\u001b[0m\u001b[0m\n\u001b[0m\u001b[1;32m      4\u001b[0m \u001b[0mtemperature_df\u001b[0m\u001b[0;34m\u001b[0m\u001b[0;34m\u001b[0m\u001b[0m\n",
            "\u001b[0;32m/usr/local/lib/python3.6/dist-packages/pandas/io/parsers.py\u001b[0m in \u001b[0;36mread_csv\u001b[0;34m(filepath_or_buffer, sep, delimiter, header, names, index_col, usecols, squeeze, prefix, mangle_dupe_cols, dtype, engine, converters, true_values, false_values, skipinitialspace, skiprows, skipfooter, nrows, na_values, keep_default_na, na_filter, verbose, skip_blank_lines, parse_dates, infer_datetime_format, keep_date_col, date_parser, dayfirst, cache_dates, iterator, chunksize, compression, thousands, decimal, lineterminator, quotechar, quoting, doublequote, escapechar, comment, encoding, dialect, error_bad_lines, warn_bad_lines, delim_whitespace, low_memory, memory_map, float_precision)\u001b[0m\n\u001b[1;32m    686\u001b[0m     )\n\u001b[1;32m    687\u001b[0m \u001b[0;34m\u001b[0m\u001b[0m\n\u001b[0;32m--> 688\u001b[0;31m     \u001b[0;32mreturn\u001b[0m \u001b[0m_read\u001b[0m\u001b[0;34m(\u001b[0m\u001b[0mfilepath_or_buffer\u001b[0m\u001b[0;34m,\u001b[0m \u001b[0mkwds\u001b[0m\u001b[0;34m)\u001b[0m\u001b[0;34m\u001b[0m\u001b[0;34m\u001b[0m\u001b[0m\n\u001b[0m\u001b[1;32m    689\u001b[0m \u001b[0;34m\u001b[0m\u001b[0m\n\u001b[1;32m    690\u001b[0m \u001b[0;34m\u001b[0m\u001b[0m\n",
            "\u001b[0;32m/usr/local/lib/python3.6/dist-packages/pandas/io/parsers.py\u001b[0m in \u001b[0;36m_read\u001b[0;34m(filepath_or_buffer, kwds)\u001b[0m\n\u001b[1;32m    452\u001b[0m \u001b[0;34m\u001b[0m\u001b[0m\n\u001b[1;32m    453\u001b[0m     \u001b[0;31m# Create the parser.\u001b[0m\u001b[0;34m\u001b[0m\u001b[0;34m\u001b[0m\u001b[0;34m\u001b[0m\u001b[0m\n\u001b[0;32m--> 454\u001b[0;31m     \u001b[0mparser\u001b[0m \u001b[0;34m=\u001b[0m \u001b[0mTextFileReader\u001b[0m\u001b[0;34m(\u001b[0m\u001b[0mfp_or_buf\u001b[0m\u001b[0;34m,\u001b[0m \u001b[0;34m**\u001b[0m\u001b[0mkwds\u001b[0m\u001b[0;34m)\u001b[0m\u001b[0;34m\u001b[0m\u001b[0;34m\u001b[0m\u001b[0m\n\u001b[0m\u001b[1;32m    455\u001b[0m \u001b[0;34m\u001b[0m\u001b[0m\n\u001b[1;32m    456\u001b[0m     \u001b[0;32mif\u001b[0m \u001b[0mchunksize\u001b[0m \u001b[0;32mor\u001b[0m \u001b[0miterator\u001b[0m\u001b[0;34m:\u001b[0m\u001b[0;34m\u001b[0m\u001b[0;34m\u001b[0m\u001b[0m\n",
            "\u001b[0;32m/usr/local/lib/python3.6/dist-packages/pandas/io/parsers.py\u001b[0m in \u001b[0;36m__init__\u001b[0;34m(self, f, engine, **kwds)\u001b[0m\n\u001b[1;32m    946\u001b[0m             \u001b[0mself\u001b[0m\u001b[0;34m.\u001b[0m\u001b[0moptions\u001b[0m\u001b[0;34m[\u001b[0m\u001b[0;34m\"has_index_names\"\u001b[0m\u001b[0;34m]\u001b[0m \u001b[0;34m=\u001b[0m \u001b[0mkwds\u001b[0m\u001b[0;34m[\u001b[0m\u001b[0;34m\"has_index_names\"\u001b[0m\u001b[0;34m]\u001b[0m\u001b[0;34m\u001b[0m\u001b[0;34m\u001b[0m\u001b[0m\n\u001b[1;32m    947\u001b[0m \u001b[0;34m\u001b[0m\u001b[0m\n\u001b[0;32m--> 948\u001b[0;31m         \u001b[0mself\u001b[0m\u001b[0;34m.\u001b[0m\u001b[0m_make_engine\u001b[0m\u001b[0;34m(\u001b[0m\u001b[0mself\u001b[0m\u001b[0;34m.\u001b[0m\u001b[0mengine\u001b[0m\u001b[0;34m)\u001b[0m\u001b[0;34m\u001b[0m\u001b[0;34m\u001b[0m\u001b[0m\n\u001b[0m\u001b[1;32m    949\u001b[0m \u001b[0;34m\u001b[0m\u001b[0m\n\u001b[1;32m    950\u001b[0m     \u001b[0;32mdef\u001b[0m \u001b[0mclose\u001b[0m\u001b[0;34m(\u001b[0m\u001b[0mself\u001b[0m\u001b[0;34m)\u001b[0m\u001b[0;34m:\u001b[0m\u001b[0;34m\u001b[0m\u001b[0;34m\u001b[0m\u001b[0m\n",
            "\u001b[0;32m/usr/local/lib/python3.6/dist-packages/pandas/io/parsers.py\u001b[0m in \u001b[0;36m_make_engine\u001b[0;34m(self, engine)\u001b[0m\n\u001b[1;32m   1178\u001b[0m     \u001b[0;32mdef\u001b[0m \u001b[0m_make_engine\u001b[0m\u001b[0;34m(\u001b[0m\u001b[0mself\u001b[0m\u001b[0;34m,\u001b[0m \u001b[0mengine\u001b[0m\u001b[0;34m=\u001b[0m\u001b[0;34m\"c\"\u001b[0m\u001b[0;34m)\u001b[0m\u001b[0;34m:\u001b[0m\u001b[0;34m\u001b[0m\u001b[0;34m\u001b[0m\u001b[0m\n\u001b[1;32m   1179\u001b[0m         \u001b[0;32mif\u001b[0m \u001b[0mengine\u001b[0m \u001b[0;34m==\u001b[0m \u001b[0;34m\"c\"\u001b[0m\u001b[0;34m:\u001b[0m\u001b[0;34m\u001b[0m\u001b[0;34m\u001b[0m\u001b[0m\n\u001b[0;32m-> 1180\u001b[0;31m             \u001b[0mself\u001b[0m\u001b[0;34m.\u001b[0m\u001b[0m_engine\u001b[0m \u001b[0;34m=\u001b[0m \u001b[0mCParserWrapper\u001b[0m\u001b[0;34m(\u001b[0m\u001b[0mself\u001b[0m\u001b[0;34m.\u001b[0m\u001b[0mf\u001b[0m\u001b[0;34m,\u001b[0m \u001b[0;34m**\u001b[0m\u001b[0mself\u001b[0m\u001b[0;34m.\u001b[0m\u001b[0moptions\u001b[0m\u001b[0;34m)\u001b[0m\u001b[0;34m\u001b[0m\u001b[0;34m\u001b[0m\u001b[0m\n\u001b[0m\u001b[1;32m   1181\u001b[0m         \u001b[0;32melse\u001b[0m\u001b[0;34m:\u001b[0m\u001b[0;34m\u001b[0m\u001b[0;34m\u001b[0m\u001b[0m\n\u001b[1;32m   1182\u001b[0m             \u001b[0;32mif\u001b[0m \u001b[0mengine\u001b[0m \u001b[0;34m==\u001b[0m \u001b[0;34m\"python\"\u001b[0m\u001b[0;34m:\u001b[0m\u001b[0;34m\u001b[0m\u001b[0;34m\u001b[0m\u001b[0m\n",
            "\u001b[0;32m/usr/local/lib/python3.6/dist-packages/pandas/io/parsers.py\u001b[0m in \u001b[0;36m__init__\u001b[0;34m(self, src, **kwds)\u001b[0m\n\u001b[1;32m   2008\u001b[0m         \u001b[0mkwds\u001b[0m\u001b[0;34m[\u001b[0m\u001b[0;34m\"usecols\"\u001b[0m\u001b[0;34m]\u001b[0m \u001b[0;34m=\u001b[0m \u001b[0mself\u001b[0m\u001b[0;34m.\u001b[0m\u001b[0musecols\u001b[0m\u001b[0;34m\u001b[0m\u001b[0;34m\u001b[0m\u001b[0m\n\u001b[1;32m   2009\u001b[0m \u001b[0;34m\u001b[0m\u001b[0m\n\u001b[0;32m-> 2010\u001b[0;31m         \u001b[0mself\u001b[0m\u001b[0;34m.\u001b[0m\u001b[0m_reader\u001b[0m \u001b[0;34m=\u001b[0m \u001b[0mparsers\u001b[0m\u001b[0;34m.\u001b[0m\u001b[0mTextReader\u001b[0m\u001b[0;34m(\u001b[0m\u001b[0msrc\u001b[0m\u001b[0;34m,\u001b[0m \u001b[0;34m**\u001b[0m\u001b[0mkwds\u001b[0m\u001b[0;34m)\u001b[0m\u001b[0;34m\u001b[0m\u001b[0;34m\u001b[0m\u001b[0m\n\u001b[0m\u001b[1;32m   2011\u001b[0m         \u001b[0mself\u001b[0m\u001b[0;34m.\u001b[0m\u001b[0munnamed_cols\u001b[0m \u001b[0;34m=\u001b[0m \u001b[0mself\u001b[0m\u001b[0;34m.\u001b[0m\u001b[0m_reader\u001b[0m\u001b[0;34m.\u001b[0m\u001b[0munnamed_cols\u001b[0m\u001b[0;34m\u001b[0m\u001b[0;34m\u001b[0m\u001b[0m\n\u001b[1;32m   2012\u001b[0m \u001b[0;34m\u001b[0m\u001b[0m\n",
            "\u001b[0;32mpandas/_libs/parsers.pyx\u001b[0m in \u001b[0;36mpandas._libs.parsers.TextReader.__cinit__\u001b[0;34m()\u001b[0m\n",
            "\u001b[0;32mpandas/_libs/parsers.pyx\u001b[0m in \u001b[0;36mpandas._libs.parsers.TextReader._setup_parser_source\u001b[0;34m()\u001b[0m\n",
            "\u001b[0;31mFileNotFoundError\u001b[0m: [Errno 2] No such file or directory: 'smhi_vaderdata.csv'"
          ]
        }
      ]
    },
    {
      "cell_type": "code",
      "metadata": {
        "id": "JCLzKrwKdy01"
      },
      "source": [
        "#skapar en lista med enbart temperatur\n",
        "temperature = temperature_df['Lufttemperatur']\n",
        "temperature"
      ],
      "execution_count": null,
      "outputs": []
    },
    {
      "cell_type": "code",
      "metadata": {
        "id": "FjiqYqgEdy01"
      },
      "source": [
        "#Din kod för uppgift a här.."
      ],
      "execution_count": null,
      "outputs": []
    },
    {
      "cell_type": "markdown",
      "metadata": {
        "id": "BrFp68Sidy01"
      },
      "source": [
        "## Uppgift 12\n",
        "\n",
        "Restaurang varvet har börjat använda swish i hög utsträckning, dock har de ett problem. Kassans dagliga sammanställning stämmer inte med summan som levereras från banken på hur mycket pengar som inkommit. Anledningen är att banken inte sammanställer swishinkomster per dag. Ägaren behöver därför göra detta manuellt vilket tar mycket tid. \n",
        "\n",
        "Uppgiften är därmed att beräkna en totalsumma av swishinbetalningar per dag och leverera denna sammanställning i en ny fil som ni sedan kan skicka till ägaren för att underlätta dennes arbete. Ni läser in filen på samma sätt som i föregående övning, även denna fil har ; som separator. Som hjälp har också de bibliotek ni behöver för att genomföra uppgiften importerats. Skapa lämligt antal nya kodblock för att utföra uppgiften. \n",
        "\n",
        "\n"
      ]
    },
    {
      "cell_type": "code",
      "metadata": {
        "id": "n1wPpoVtdy02"
      },
      "source": [
        "#Importerar nädvändiga bibliotek\n",
        "import pandas as pd\n",
        "import dateutil\n",
        "import csv as csv"
      ],
      "execution_count": null,
      "outputs": []
    },
    {
      "cell_type": "code",
      "metadata": {
        "id": "ef6bjoICdy02"
      },
      "source": [
        ""
      ],
      "execution_count": null,
      "outputs": []
    }
  ]
}