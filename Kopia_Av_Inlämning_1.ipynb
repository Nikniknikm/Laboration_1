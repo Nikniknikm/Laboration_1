{
  "nbformat": 4,
  "nbformat_minor": 0,
  "metadata": {
    "kernelspec": {
      "display_name": "Python 3",
      "language": "python",
      "name": "python3"
    },
    "language_info": {
      "codemirror_mode": {
        "name": "ipython",
        "version": 3
      },
      "file_extension": ".py",
      "mimetype": "text/x-python",
      "name": "python",
      "nbconvert_exporter": "python",
      "pygments_lexer": "ipython3",
      "version": "3.7.4"
    },
    "colab": {
      "name": "Kopia_Av_Inlämning_1.ipynb",
      "provenance": [],
      "collapsed_sections": [],
      "toc_visible": true,
      "include_colab_link": true
    }
  },
  "cells": [
    {
      "cell_type": "markdown",
      "metadata": {
        "id": "view-in-github",
        "colab_type": "text"
      },
      "source": [
        "<a href=\"https://colab.research.google.com/github/Nikniknikm/Laboration_1/blob/master/Kopia_Av_Inl%C3%A4mning_1.ipynb\" target=\"_parent\"><img src=\"https://colab.research.google.com/assets/colab-badge.svg\" alt=\"Open In Colab\"/></a>"
      ]
    },
    {
      "cell_type": "markdown",
      "metadata": {
        "id": "bw-Vf-6pdy0s"
      },
      "source": [
        "# Inlämning laboration 1\n",
        "\n",
        "Vissa av uppgifterna i denna inlämning är inspirerade från följande källor:\n",
        "\n",
        "- MyMachineLearningCourse in Python, licensierad  under GNU General Public License v3.0\n",
        "- Software Carpentry Copyright ©Software Carpentry, http://software-carpentry.org/, licensierad under Creative Commons Attribution license,https://creativecommons.org/licenses/by/4.0/\n",
        "- Geo Python (© Copyright 2017 Tenkanen & Whipp, University of Helsinki) licensierad under Creative Commons Attribution-ShareAlike 4.0 International licence https://creativecommons.org/licenses/by-sa/4.0/legalcode.\n",
        "\n",
        "\n",
        "Denna laboration ska genomföras i par, när ni arbetar med laborationen ska ni vara noga med att spara era ändringar i GitHub. Det går att göra direkt från collaboratory genom att spara en kopia i ert repository. Detta är dels för att ni inte ska riskera att förlora något arbete men också för att det ska gå att följa ert arbete som lärare. När ni är färdiga ska länken till laborationen i collaboratory lämnas in i Studium. Endast en inlämning per grupp behövs. Det är också att rekommendera att infoga en knapp för att öppna filen i Collaboratory direkt från GitHub, detta får ni en fråga om när ni kopierar filen till GitHub, via arkivmenyn.\n",
        "\n",
        "Det finns totalt 12 uppgifter och frågor, samtliga ska besvaras för godkänt. "
      ]
    },
    {
      "cell_type": "markdown",
      "metadata": {
        "id": "D5FQ6hrkdy0x"
      },
      "source": [
        "## Uppgift 1\n",
        "Skriv ut dagens datum i formatet YYYY-MM-DD"
      ]
    },
    {
      "cell_type": "code",
      "metadata": {
        "colab": {
          "base_uri": "https://localhost:8080/"
        },
        "id": "m-lR6anl3EpM",
        "outputId": "ae648783-1b6a-4e56-cf61-40d93339921c"
      },
      "source": [
        "#1- Date, använder mig av inbyggda funktionen datetime som skriver ut dagens datum\n",
        "\n",
        "import datetime\n",
        "x = datetime.date.today()\n",
        "\n",
        "print(x)\n"
      ],
      "execution_count": null,
      "outputs": [
        {
          "output_type": "stream",
          "text": [
            "2021-01-22\n"
          ],
          "name": "stdout"
        }
      ]
    },
    {
      "cell_type": "markdown",
      "metadata": {
        "id": "IHC2qeQYdy0y"
      },
      "source": [
        "## Uppgift 2  \n",
        "Definiera en funktion `max_of_three()` som tar tre olika nummer som argument och returnerar det största av dem, skriv ut resultatet."
      ]
    },
    {
      "cell_type": "code",
      "metadata": {
        "colab": {
          "base_uri": "https://localhost:8080/"
        },
        "id": "r0ZhfZthyxhC",
        "outputId": "93db30ea-9ebe-4e73-c40d-7a723da0bfbe"
      },
      "source": [
        "#2- Max_value, Räknar ut max value av listan\n",
        "\n",
        "import math\n",
        "list_number = [1,5,50]\n",
        "max_of_three = max(list_number)\n",
        "print (max_of_three)\n"
      ],
      "execution_count": null,
      "outputs": [
        {
          "output_type": "stream",
          "text": [
            "50\n"
          ],
          "name": "stdout"
        }
      ]
    },
    {
      "cell_type": "markdown",
      "metadata": {
        "id": "aJdpftCDdy0y"
      },
      "source": [
        "## Uppgift 3  \n",
        "Definiera en funktion `sum()` som summerar och en annan funktion `multiply()` som multiplicerar alla nummer i en lista, skriv ut resultatet \n",
        "\n",
        "**Ex:** `sum([1, 2, 3, 4])` ska returnera 10, och `multiply()([1, 2, 3, 4])` ska returnera 24."
      ]
    },
    {
      "cell_type": "code",
      "metadata": {
        "colab": {
          "base_uri": "https://localhost:8080/"
        },
        "id": "FA-mOvxL5uhl",
        "outputId": "1d84f8bf-1a9b-4cd4-fc41-df26054e80b9"
      },
      "source": [
        "#3a) sum function, skapar en lista och i funktionen summeras alla värde\n",
        "\n",
        "math_list =[1,2,3,4]\n",
        "def sum_list(items):\n",
        "  sum_numbers = 0\n",
        "  for x in items:\n",
        "    sum_numbers += x\n",
        "  return sum_numbers\n",
        "\n",
        "print(sum_list(math_list))\n"
      ],
      "execution_count": 53,
      "outputs": [
        {
          "output_type": "stream",
          "text": [
            "10\n"
          ],
          "name": "stdout"
        }
      ]
    },
    {
      "cell_type": "code",
      "metadata": {
        "colab": {
          "base_uri": "https://localhost:8080/"
        },
        "id": "Xbq5a4Q2FL4E",
        "outputId": "3648edf9-bb49-4d50-c9e3-1de3bb977a96"
      },
      "source": [
        "#3b) multiply funktion, skapar en lista och därefter i funktionen multipliceras alla värde \n",
        "\n",
        "math_list =[1,2,3,4]\n",
        "def multiply(math_list):  \n",
        "    total = 1\n",
        "    for x in math_list:\n",
        "        total *= x  \n",
        "    return total  \n",
        "print(multiply((math_list)))\n"
      ],
      "execution_count": 55,
      "outputs": [
        {
          "output_type": "stream",
          "text": [
            "24\n"
          ],
          "name": "stdout"
        }
      ]
    },
    {
      "cell_type": "markdown",
      "metadata": {
        "id": "PIu_mgHady0y"
      },
      "source": [
        "## Uppgift 4\n",
        "\n",
        "**a.** Definiera en funktion som tar ett antal (varierande) kommaseparerade nummer som argument och genererar en lista och en tuple som innehåller dessa nummer.\n",
        "\n",
        "**b.** Vad är skillnaden mellan en lista och en tuple i Python?"
      ]
    },
    {
      "cell_type": "code",
      "metadata": {
        "id": "XISUeP8B52hJ",
        "colab": {
          "base_uri": "https://localhost:8080/"
        },
        "outputId": "3040ed6e-434c-4340-ecf0-13c88cda9b23"
      },
      "source": [
        "#4 -Tuple Vs List, skapar en list och en tuple av hela innehållet på \"a\"\n",
        "\n",
        "def list_maker(*a):\n",
        "  my_list = list(a)\n",
        "  tuple_list= tuple (a)\n",
        "\n",
        "  return  my_list, tuple_list\n",
        "\n",
        "list_maker(5, 4, 7, 8, 1)\n"
      ],
      "execution_count": 85,
      "outputs": [
        {
          "output_type": "execute_result",
          "data": {
            "text/plain": [
              "([5, 4, 7, 8, 1], (5, 4, 7, 8, 1))"
            ]
          },
          "metadata": {
            "tags": []
          },
          "execution_count": 85
        }
      ]
    },
    {
      "cell_type": "code",
      "metadata": {
        "id": "7M8oNAUHBikh"
      },
      "source": [
        "#4- Skillnaden mellan en lista och tuple är att det inte går att ändra value i tuple vilket är möjligt i en lista. \n",
        "#Med detta menas att efter att man har skapat tuple är det inte möjligt att addera, radera eller ändra värdet.\n"
      ],
      "execution_count": null,
      "outputs": []
    },
    {
      "cell_type": "markdown",
      "metadata": {
        "id": "aSOWyygGdy0y"
      },
      "source": [
        "## Uppgift 5 \n",
        "Skapa två olika tal som integers. Kalkylera produkten av dessa, om produkten är **högre** än 200, returnera då summan av de två talen,skriv ut resultatet. \n",
        "\n",
        "**Ex**\n",
        "~~~\n",
        "INPUT:  \n",
        "`number1 = 10`  \n",
        "`number2 = 20`\n",
        "\n",
        "RESULT:  \n",
        "The result is 200.\n",
        "~~~\n"
      ]
    },
    {
      "cell_type": "code",
      "metadata": {
        "colab": {
          "base_uri": "https://localhost:8080/"
        },
        "id": "QbEeI6Fh6P7v",
        "outputId": "cbd76c59-98fb-4ca9-c223-d20cf9d31d14"
      },
      "source": [
        "#5 -Calculate, räknar ut produktion av två int och ser om den är över 200, då printar den ut summan av de\n",
        "#annars så händer iget\n",
        "\n",
        "number1= 20\n",
        "number2= 20\n",
        "\n",
        "if(number1*number2>200):\n",
        "  print(number1+number2)\n",
        "  "
      ],
      "execution_count": 57,
      "outputs": [
        {
          "output_type": "stream",
          "text": [
            "40\n"
          ],
          "name": "stdout"
        }
      ]
    },
    {
      "cell_type": "markdown",
      "metadata": {
        "id": "OElCILxXdy0z"
      },
      "source": [
        "## Uppgift 6 \n",
        "**a.** Givet en sträng, skriv ut de bokstäver som finns på alla ojämna indexplatser. \n",
        "\n",
        "**b.** Utveckla ovanstående funktion så att mellanslag inte skrivs ut utan endast index med bokstäver. "
      ]
    },
    {
      "cell_type": "code",
      "metadata": {
        "colab": {
          "base_uri": "https://localhost:8080/"
        },
        "id": "tmpSzzsvkek0",
        "outputId": "6474e7d1-7dcf-4bac-fe3b-f5b7a458ab4a"
      },
      "source": [
        "#6a -Alphabet - tar emot värdet ifrån en input och skriver ut bokstväer på alla ojämna platser\n",
        "\n",
        "alphabet = input('Skriv en mening :) ')\n",
        "res = alphabet[::2]\n",
        "print(res)\n"
      ],
      "execution_count": 106,
      "outputs": [
        {
          "output_type": "stream",
          "text": [
            "Skriv en mening :) Det blir skoj med python\n",
            "Dtbi kjmdpto\n"
          ],
          "name": "stdout"
        }
      ]
    },
    {
      "cell_type": "code",
      "metadata": {
        "colab": {
          "base_uri": "https://localhost:8080/"
        },
        "id": "nye2V9ZRAioc",
        "outputId": "ce0eec4e-e807-4f52-8ca0-2a159a5cd197"
      },
      "source": [
        "#6b - tar emot värdet ifrån en input och därefter splittrar den och splittrar den utan mellanslag\n",
        "\n",
        "alphabet = input('Skriv en mening :) ')\n",
        "alphabet = ''.join(alphabet.split())\n",
        "alphabet = alphabet[::2]\n",
        "print(alphabet)\n"
      ],
      "execution_count": 105,
      "outputs": [
        {
          "output_type": "stream",
          "text": [
            "Skriv en mening :) Det blir skoj med python\n",
            "Dtlrkjepto\n"
          ],
          "name": "stdout"
        }
      ]
    },
    {
      "cell_type": "markdown",
      "metadata": {
        "id": "ibaj9iLfdy0z"
      },
      "source": [
        "## Uppgift 7\n",
        "**a** Skapa en sträng som innehåller 4 olika ord, separerade med ; Använd den inbyggda funktionen `split()`och skriv ut de fyra orden på varsin rad.\n",
        "\n",
        "**b** Varför var denna övning viktig inför framtida analys av strukturerad data?\n"
      ]
    },
    {
      "cell_type": "code",
      "metadata": {
        "colab": {
          "base_uri": "https://localhost:8080/"
        },
        "id": "vneTkYYDB6Pl",
        "outputId": "d86997f1-119c-4ec3-cd92-5ac49c0b9886"
      },
      "source": [
        "#7a-String split\n",
        "\n",
        "#En sträng som innehåller x-antal ord\n",
        "word_string = 'Här; Skapas; En; Sträng'\n",
        "#Splittrar strängen genom .split på \";\" tecknet\n",
        "word_string_split = word_string.split(';')\n",
        "#for loopen går igenom strängen och skriver ut varje ord på en ny rad\n",
        "for word in word_string_split:\n",
        " print (word)\n"
      ],
      "execution_count": 110,
      "outputs": [
        {
          "output_type": "stream",
          "text": [
            "Här\n",
            " Skapas\n",
            " En\n",
            " Sträng\n"
          ],
          "name": "stdout"
        }
      ]
    },
    {
      "cell_type": "code",
      "metadata": {
        "id": "oYYZryr0N38g"
      },
      "source": [
        "#För att kunna ta ur vissa delar ur en mening, kunna dela upp datat som innehåller ett viss tecken \n"
      ],
      "execution_count": null,
      "outputs": []
    },
    {
      "cell_type": "markdown",
      "metadata": {
        "id": "YIbeBwIFdy0z"
      },
      "source": [
        "## Uppgift 8"
      ]
    },
    {
      "cell_type": "markdown",
      "metadata": {
        "id": "BbWEjnhgdy0z"
      },
      "source": [
        "Beräkna inkomstskatten för några olika personer med olika inkomst, använd nedanstående tabell för att se reglerna för inkomstskatt för olika inkomster. Skriv ut varje persons inkomst och skatt på en egen rad. \n",
        "\n",
        "| Inkomst  | Skatt (%) |\n",
        "|----------|-----------|\n",
        "| <=10 000 |     0     |\n",
        "| <=30 000 |     20    |\n",
        "| > 30 000 |     40    |\n",
        "\n",
        "\n",
        "**Ex**\n",
        "\n",
        "~~~\n",
        "En person med en inkomst på 35000 ska betala 10 000*0 + 20 000*0,2 + 5000*0,4 = 6000 kr i skatt.\n",
        "~~~"
      ]
    },
    {
      "cell_type": "code",
      "metadata": {
        "colab": {
          "base_uri": "https://localhost:8080/"
        },
        "id": "nMTakM7HPrp9",
        "outputId": "5761f242-751c-4083-88e2-fa05c3f10529"
      },
      "source": [
        "#8- Tax\n",
        "\n",
        "import math\n",
        "inkomst = int(input('Hur mycket inkomst har du?'))\n",
        "#kollar om inkomsten är lägre eller lika med 10000\n",
        "if inkomst <= 10000:\n",
        "#skriver ut att det behövs inte att betala skatt  \n",
        "  print('Du behöver inte betala något skatt')\n",
        "#kollar om inkomsten är lägre eller lika med 30000\n",
        "elif inkomst <= 30000:\n",
        "#Räknar ut hur mycket skatt som behövs betalas  \n",
        "  lowskatt= inkomst*0.20 \n",
        "#Tar in lowskatt som har räknat skatten som ska betalas och skriver ut den \n",
        "  print('Du behöver betala', lowskatt)\n",
        "#om ovanstående inte stämmer då körs den här delen  \n",
        "else:\n",
        "#Räknar ut skatten som behöver betalas   \n",
        "  highskatt= inkomst*0.40\n",
        "#Tar in highskatt patameten och skriver ut hur mycker skatt behöver betalas  \n",
        "  print('Du behöver betala',highskatt)    \n"
      ],
      "execution_count": 28,
      "outputs": [
        {
          "output_type": "stream",
          "text": [
            "Hur mycket inkomst har du?32000\n",
            "Du behöver betala 12800.0\n"
          ],
          "name": "stdout"
        }
      ]
    },
    {
      "cell_type": "markdown",
      "metadata": {
        "id": "Xuyg0tTpdy00"
      },
      "source": [
        "## Uppgift 9\n",
        "\n",
        "**För att genomföra denna uppgift kan fler än ett kodblock behöva skapas.**\n",
        "\n",
        "Skapa en strängvariabel som du döper till name och spara ditt förnamn och efternamn i en enda sträng i denna variabel.\n",
        "\n",
        "Skapa en integervariabel som du döper till iceCreamRating och använd denna för att spara ettnummer mellan 0 till 10 som speglar hur mycket du tycker om glass.\n",
        "\n",
        "Koda sedan i Python något som ger ungefär denna output:\n",
        "\n",
        "Mitt namn är Elin Uppström och jag ger glassätning 7 poäng av 10 möjliga!\n",
        "\n",
        "**OBS!** Elin Uppström ska såklart bestå av innehållet i variabeln name och poängen ska komma från variabeln iceCreamRating"
      ]
    },
    {
      "cell_type": "code",
      "metadata": {
        "colab": {
          "base_uri": "https://localhost:8080/"
        },
        "id": "DkLFvFmaPXgT",
        "outputId": "d4b591d4-78ad-4c0e-8ba1-4ae3d6541f31"
      },
      "source": [
        "#9 IceCream Rating\n",
        "\n",
        "#Skapar en stängvariabel med mitt namn \n",
        "name= \"Nika Mahani\"\n",
        "#Skapar en int med hur mcyket jag tycker om glass\n",
        "iceCreamRating = 10;\n",
        "#Skriver ut meningen genom att sätta ihop stängen och inten med lite text\n",
        "print('Mitt namn är ',name, 'och jag ger glassätning', iceCreamRating,'poäng av 10 möjliga!')\n"
      ],
      "execution_count": 32,
      "outputs": [
        {
          "output_type": "stream",
          "text": [
            "Mitt namn är  Nika Mahani och jag ger glassätning 10 poäng av 10 möjliga!\n"
          ],
          "name": "stdout"
        }
      ]
    },
    {
      "cell_type": "markdown",
      "metadata": {
        "id": "Voi11kvgdy00"
      },
      "source": [
        "## Uppgift 10\n",
        "\n",
        "a. För att konvertera sekunder till sekunder, minuter och timmar kan följande metod användas med \"brute force\". \n",
        "~~~\n",
        "def convert(seconds): \n",
        "    seconds = seconds % (24 * 3600) \n",
        "    hour = seconds // 3600\n",
        "    seconds %= 3600\n",
        "    minutes = seconds // 60\n",
        "    seconds %= 60\n",
        "      \n",
        "    return \"%d:%02d:%02d\" % (hour, minutes, seconds) \n",
        "      \n",
        "# Driver program \n",
        "n = 12345\n",
        "print(convert(n)) \n",
        "\n",
        "~~~\n",
        "\n",
        "Istället för brute force, skapa två olika förslag på hur samma sak kan åstadkommas med hjälp av Pythons inbyggda bibliotek som ni hittar [här](https://docs.python.org/3/library/index.html).\n"
      ]
    },
    {
      "cell_type": "code",
      "metadata": {
        "colab": {
          "base_uri": "https://localhost:8080/"
        },
        "id": "vfBp2Ury3ksS",
        "outputId": "47d2a11c-83b9-4ad1-a0e6-dfc9454e388c"
      },
      "source": [
        "#10 förslag 1) importerar datetime och skriver en funktion där jag kan konvertera tiden\n",
        "\n",
        "import datetime\n",
        "\n",
        "def convert(n):\n",
        "    return str(datetime.timedelta(seconds = n))\n",
        "\n",
        "n = 12345\n",
        "print(convert(n))\n"
      ],
      "execution_count": 38,
      "outputs": [
        {
          "output_type": "stream",
          "text": [
            "3:25:45\n"
          ],
          "name": "stdout"
        }
      ]
    },
    {
      "cell_type": "code",
      "metadata": {
        "colab": {
          "base_uri": "https://localhost:8080/"
        },
        "id": "tFKSg-To7EVo",
        "outputId": "3c9eb648-9672-4cf5-94d6-48a5c0660ac3"
      },
      "source": [
        "#10 förslag 2) skriver en funktion \n",
        "\n",
        "def convert(seconds): \n",
        "    min, sec = divmod(seconds, 60) \n",
        "    hour, min = divmod(min, 60) \n",
        "    return \"%d:%02d:%02d\" % (hour, min, sec) \n",
        "      \n",
        "n = 3000\n",
        "print(convert(n)) \n"
      ],
      "execution_count": 39,
      "outputs": [
        {
          "output_type": "stream",
          "text": [
            "0:50:00\n"
          ],
          "name": "stdout"
        }
      ]
    },
    {
      "cell_type": "code",
      "metadata": {
        "colab": {
          "base_uri": "https://localhost:8080/"
        },
        "id": "QHjOaWW48z5m",
        "outputId": "a480c807-76dd-4b4c-dc69-bf13da1ef7c6"
      },
      "source": [
        "#10 förslag 3) imposterar time och sedan skriver en funktion som konverterar det\n",
        "\n",
        "import time \n",
        "  \n",
        "def convert(seconds): \n",
        "    return time.strftime(\"%H:%M:%S\", time.gmtime(n)) \n",
        "\n",
        "\n",
        "n = 12345\n",
        "print(convert(n)) \n"
      ],
      "execution_count": 40,
      "outputs": [
        {
          "output_type": "stream",
          "text": [
            "03:25:45\n"
          ],
          "name": "stdout"
        }
      ]
    },
    {
      "cell_type": "markdown",
      "metadata": {
        "id": "oNefubSwdy00"
      },
      "source": [
        "## Uppgift 11\n",
        "\n",
        "I filen som heter smhi_vaderdata.csv finns ett helt dyngs väderdata från Visby flygplats, nämligen från den 28 augusti 11.00 till den 29 augusti 11.00. I denna övning ska ni använda denna data och utföra ett antal uppgifter. För att importera den data som finns används ett externt bibliotek som heter pandas som vi kommer använda oss mycket av framöver. Denna gång får ni dock filen importerad åt er samt de olika temperaturerna inlagda i en lista. När ni sedan skriver er egen kod gör ni detta i ett nytt kodblock. \n",
        "\n",
        "a. Skapa tomma listor för olika typer av temperatur, exempelvis varmt, ljummet, kallt etc. Minst tre olika typer av temperaturer ska ingå. \n",
        "\n",
        "b. Iterera över listan och sortera in de olika temperaturerna i de skapade temperaturtyperna, \n",
        "\n",
        "**Ex** \n",
        "~~~\n",
        "temperatur över 18 grader ska till listan med varma temperaturer\n",
        "~~~\n",
        "\n",
        "c. Ange hur många timmar under dygnet de olika temperaturtyperna förekommit. \n",
        "\n",
        "**Ex**\n",
        "\n",
        "~~~\n",
        "Det var varmt fem timmar under dygnet.\n",
        "Det var ljummet åtta timmar under dygnet.\n",
        "Det var inte kallt någon timme under dygnet.\n",
        "~~~\n",
        "\n",
        "d. Förklara vilka argument `read_csv` kan ta och vad de två argument som skickas med i nedanstående kod betyder. \n",
        "\n",
        "e. Vad är den första kolumnen i den dataframe som skapas i koden nedan (ni måste köra koden för att resultatet ska synas.)"
      ]
    },
    {
      "cell_type": "code",
      "metadata": {
        "id": "1RP1FFR8dy00",
        "colab": {
          "base_uri": "https://localhost:8080/",
          "height": 824
        },
        "outputId": "e7d3eda3-eede-46d4-8ab1-617da792c036"
      },
      "source": [
        "#importerar pandas och hämtar data från csv-filen till en dataFrame\n",
        "\n",
        "import pandas as pd\n",
        "temperature_df= pd.read_csv(\"smhi_vaderdata.csv\", sep=';')\n",
        "temperature_df\n"
      ],
      "execution_count": 59,
      "outputs": [
        {
          "output_type": "execute_result",
          "data": {
            "text/html": [
              "<div>\n",
              "<style scoped>\n",
              "    .dataframe tbody tr th:only-of-type {\n",
              "        vertical-align: middle;\n",
              "    }\n",
              "\n",
              "    .dataframe tbody tr th {\n",
              "        vertical-align: top;\n",
              "    }\n",
              "\n",
              "    .dataframe thead th {\n",
              "        text-align: right;\n",
              "    }\n",
              "</style>\n",
              "<table border=\"1\" class=\"dataframe\">\n",
              "  <thead>\n",
              "    <tr style=\"text-align: right;\">\n",
              "      <th></th>\n",
              "      <th>Datum</th>\n",
              "      <th>Tid (UTC)</th>\n",
              "      <th>Lufttemperatur</th>\n",
              "    </tr>\n",
              "  </thead>\n",
              "  <tbody>\n",
              "    <tr>\n",
              "      <th>0</th>\n",
              "      <td>2020-08-28</td>\n",
              "      <td>11:00:00</td>\n",
              "      <td>18.2</td>\n",
              "    </tr>\n",
              "    <tr>\n",
              "      <th>1</th>\n",
              "      <td>2020-08-28</td>\n",
              "      <td>12:00:00</td>\n",
              "      <td>18.3</td>\n",
              "    </tr>\n",
              "    <tr>\n",
              "      <th>2</th>\n",
              "      <td>2020-08-28</td>\n",
              "      <td>13:00:00</td>\n",
              "      <td>18.7</td>\n",
              "    </tr>\n",
              "    <tr>\n",
              "      <th>3</th>\n",
              "      <td>2020-08-28</td>\n",
              "      <td>14:00:00</td>\n",
              "      <td>17.5</td>\n",
              "    </tr>\n",
              "    <tr>\n",
              "      <th>4</th>\n",
              "      <td>2020-08-28</td>\n",
              "      <td>15:00:00</td>\n",
              "      <td>17.8</td>\n",
              "    </tr>\n",
              "    <tr>\n",
              "      <th>5</th>\n",
              "      <td>2020-08-28</td>\n",
              "      <td>16:00:00</td>\n",
              "      <td>17.0</td>\n",
              "    </tr>\n",
              "    <tr>\n",
              "      <th>6</th>\n",
              "      <td>2020-08-28</td>\n",
              "      <td>17:00:00</td>\n",
              "      <td>15.7</td>\n",
              "    </tr>\n",
              "    <tr>\n",
              "      <th>7</th>\n",
              "      <td>2020-08-28</td>\n",
              "      <td>18:00:00</td>\n",
              "      <td>14.5</td>\n",
              "    </tr>\n",
              "    <tr>\n",
              "      <th>8</th>\n",
              "      <td>2020-08-28</td>\n",
              "      <td>19:00:00</td>\n",
              "      <td>13.9</td>\n",
              "    </tr>\n",
              "    <tr>\n",
              "      <th>9</th>\n",
              "      <td>2020-08-28</td>\n",
              "      <td>20:00:00</td>\n",
              "      <td>13.9</td>\n",
              "    </tr>\n",
              "    <tr>\n",
              "      <th>10</th>\n",
              "      <td>2020-08-28</td>\n",
              "      <td>21:00:00</td>\n",
              "      <td>13.5</td>\n",
              "    </tr>\n",
              "    <tr>\n",
              "      <th>11</th>\n",
              "      <td>2020-08-28</td>\n",
              "      <td>22:00:00</td>\n",
              "      <td>14.1</td>\n",
              "    </tr>\n",
              "    <tr>\n",
              "      <th>12</th>\n",
              "      <td>2020-08-28</td>\n",
              "      <td>23:00:00</td>\n",
              "      <td>14.2</td>\n",
              "    </tr>\n",
              "    <tr>\n",
              "      <th>13</th>\n",
              "      <td>2020-08-29</td>\n",
              "      <td>00:00:00</td>\n",
              "      <td>14.2</td>\n",
              "    </tr>\n",
              "    <tr>\n",
              "      <th>14</th>\n",
              "      <td>2020-08-29</td>\n",
              "      <td>01:00:00</td>\n",
              "      <td>14.1</td>\n",
              "    </tr>\n",
              "    <tr>\n",
              "      <th>15</th>\n",
              "      <td>2020-08-29</td>\n",
              "      <td>02:00:00</td>\n",
              "      <td>14.0</td>\n",
              "    </tr>\n",
              "    <tr>\n",
              "      <th>16</th>\n",
              "      <td>2020-08-29</td>\n",
              "      <td>03:00:00</td>\n",
              "      <td>14.1</td>\n",
              "    </tr>\n",
              "    <tr>\n",
              "      <th>17</th>\n",
              "      <td>2020-08-29</td>\n",
              "      <td>04:00:00</td>\n",
              "      <td>14.6</td>\n",
              "    </tr>\n",
              "    <tr>\n",
              "      <th>18</th>\n",
              "      <td>2020-08-29</td>\n",
              "      <td>05:00:00</td>\n",
              "      <td>15.8</td>\n",
              "    </tr>\n",
              "    <tr>\n",
              "      <th>19</th>\n",
              "      <td>2020-08-29</td>\n",
              "      <td>06:00:00</td>\n",
              "      <td>15.9</td>\n",
              "    </tr>\n",
              "    <tr>\n",
              "      <th>20</th>\n",
              "      <td>2020-08-29</td>\n",
              "      <td>07:00:00</td>\n",
              "      <td>16.2</td>\n",
              "    </tr>\n",
              "    <tr>\n",
              "      <th>21</th>\n",
              "      <td>2020-08-29</td>\n",
              "      <td>08:00:00</td>\n",
              "      <td>16.7</td>\n",
              "    </tr>\n",
              "    <tr>\n",
              "      <th>22</th>\n",
              "      <td>2020-08-29</td>\n",
              "      <td>09:00:00</td>\n",
              "      <td>14.6</td>\n",
              "    </tr>\n",
              "    <tr>\n",
              "      <th>23</th>\n",
              "      <td>2020-08-29</td>\n",
              "      <td>10:00:00</td>\n",
              "      <td>14.6</td>\n",
              "    </tr>\n",
              "    <tr>\n",
              "      <th>24</th>\n",
              "      <td>2020-08-29</td>\n",
              "      <td>11:00:00</td>\n",
              "      <td>14.2</td>\n",
              "    </tr>\n",
              "  </tbody>\n",
              "</table>\n",
              "</div>"
            ],
            "text/plain": [
              "         Datum Tid (UTC)  Lufttemperatur\n",
              "0   2020-08-28  11:00:00            18.2\n",
              "1   2020-08-28  12:00:00            18.3\n",
              "2   2020-08-28  13:00:00            18.7\n",
              "3   2020-08-28  14:00:00            17.5\n",
              "4   2020-08-28  15:00:00            17.8\n",
              "5   2020-08-28  16:00:00            17.0\n",
              "6   2020-08-28  17:00:00            15.7\n",
              "7   2020-08-28  18:00:00            14.5\n",
              "8   2020-08-28  19:00:00            13.9\n",
              "9   2020-08-28  20:00:00            13.9\n",
              "10  2020-08-28  21:00:00            13.5\n",
              "11  2020-08-28  22:00:00            14.1\n",
              "12  2020-08-28  23:00:00            14.2\n",
              "13  2020-08-29  00:00:00            14.2\n",
              "14  2020-08-29  01:00:00            14.1\n",
              "15  2020-08-29  02:00:00            14.0\n",
              "16  2020-08-29  03:00:00            14.1\n",
              "17  2020-08-29  04:00:00            14.6\n",
              "18  2020-08-29  05:00:00            15.8\n",
              "19  2020-08-29  06:00:00            15.9\n",
              "20  2020-08-29  07:00:00            16.2\n",
              "21  2020-08-29  08:00:00            16.7\n",
              "22  2020-08-29  09:00:00            14.6\n",
              "23  2020-08-29  10:00:00            14.6\n",
              "24  2020-08-29  11:00:00            14.2"
            ]
          },
          "metadata": {
            "tags": []
          },
          "execution_count": 59
        }
      ]
    },
    {
      "cell_type": "code",
      "metadata": {
        "id": "JCLzKrwKdy01",
        "colab": {
          "base_uri": "https://localhost:8080/"
        },
        "outputId": "90b03e27-1cd6-49f1-fa1e-94e478f4e5a6"
      },
      "source": [
        "#skapar en lista med enbart temperatur\n",
        "\n",
        "temperature = temperature_df['Lufttemperatur']\n",
        "temperature\n"
      ],
      "execution_count": 42,
      "outputs": [
        {
          "output_type": "execute_result",
          "data": {
            "text/plain": [
              "0     18.2\n",
              "1     18.3\n",
              "2     18.7\n",
              "3     17.5\n",
              "4     17.8\n",
              "5     17.0\n",
              "6     15.7\n",
              "7     14.5\n",
              "8     13.9\n",
              "9     13.9\n",
              "10    13.5\n",
              "11    14.1\n",
              "12    14.2\n",
              "13    14.2\n",
              "14    14.1\n",
              "15    14.0\n",
              "16    14.1\n",
              "17    14.6\n",
              "18    15.8\n",
              "19    15.9\n",
              "20    16.2\n",
              "21    16.7\n",
              "22    14.6\n",
              "23    14.6\n",
              "24    14.2\n",
              "Name: Lufttemperatur, dtype: float64"
            ]
          },
          "metadata": {
            "tags": []
          },
          "execution_count": 42
        }
      ]
    },
    {
      "cell_type": "code",
      "metadata": {
        "id": "FjiqYqgEdy01"
      },
      "source": [
        "#11 a,b) skapar tre tomma listor\n",
        "\n",
        "varmtL =[]\n",
        "ljummetL =[]\n",
        "kalltL =[]\n",
        "\n",
        "#Går igenom filen och lägger rätt data i listan\n",
        "for n in temperature:\n",
        "  if n > int(18):\n",
        "    varmtL.append(n)\n",
        "  \n",
        "  elif n < int(14):\n",
        "    kalltL.append(n)\n",
        "\n",
        "  else:\n",
        "    ljummetL.append(n)  \n"
      ],
      "execution_count": 56,
      "outputs": []
    },
    {
      "cell_type": "code",
      "metadata": {
        "colab": {
          "base_uri": "https://localhost:8080/"
        },
        "id": "pIwbCkurAwHO",
        "outputId": "1171a2f8-df20-4743-d4b4-06a20cc923e6"
      },
      "source": [
        "#11b) Utskriftet för de olika temperatur som är sparade i listor\n",
        "\n",
        "print('Varm temperatur:', varmtL)\n",
        "print('Ljummen temperatur:', ljummetL)\n",
        "print('Kall temperatur:', kalltL)\n"
      ],
      "execution_count": 58,
      "outputs": [
        {
          "output_type": "stream",
          "text": [
            "Varm temperatur: [18.2, 18.3, 18.7]\n",
            "Ljummen temperatur: [17.5, 17.8, 17.0, 15.7, 14.5, 14.1, 14.2, 14.2, 14.1, 14.0, 14.1, 14.6, 15.8, 15.9, 16.2, 16.7, 14.6, 14.6, 14.2]\n",
            "Kall temperatur: [13.9, 13.9, 13.5]\n"
          ],
          "name": "stdout"
        }
      ]
    },
    {
      "cell_type": "code",
      "metadata": {
        "colab": {
          "base_uri": "https://localhost:8080/"
        },
        "id": "F-JbVOdpBye4",
        "outputId": "daee1993-6960-4bf8-af5f-f16213e90ba8"
      },
      "source": [
        "#11c) Utskrift för hur många timmar det har varit varmt,ljummet och kallt \n",
        "#genom att använda mig av len som går igenom längden på listan\n",
        "\n",
        "print('Så många timmar var det varmt:', len(varmtL), 'under dygnet' )\n",
        "print('Så många timmar var det ljummet:', len(ljummetL), 'under dygnet' )\n",
        "print('Så många timmar var det kallt:', len(kalltL), 'under dygnet' )\n"
      ],
      "execution_count": 60,
      "outputs": [
        {
          "output_type": "stream",
          "text": [
            "Så många timmar var det varmt: 3 under dygnet\n",
            "Så många timmar var det ljummet: 19 under dygnet\n",
            "Så många timmar var det kallt: 3 under dygnet\n"
          ],
          "name": "stdout"
        }
      ]
    },
    {
      "cell_type": "code",
      "metadata": {
        "id": "LajXCeggDfUS"
      },
      "source": [
        "#11 d) temperature_df= pd.read_csv(\"smhi_vaderdata.csv\", sep=';'\n",
        "#Argumentet som read_csv kan ta är:\n",
        "#   -Vilken fil den ska läsa\n",
        "#   -Hur den ska separera datat\n",
        "#   -Man kan rätta till headers av dataset\n",
        "#   -Hantera saknade värden så att de kodas ordentligt som NaN.\n",
        "#   -Korrigerade datatyper för varje kolumn i datasetet\n",
        "#   -Konverterar CSV fil till Pandas DataFrame \n",
        "#Källa:(https://www.datacamp.com/community/tutorials/pandas-read-csv)\n",
        "\n",
        "\n",
        "#Det tas in 2 argument, vilken första är vilket fil det är (alltså namnet på filen) \n",
        "#Andra argumentet säger hur fil datat ska separeras vilket i det här fallet är med ; tecknet \n",
        "\n",
        "#11 e) Första utskriftet är  0\t2020-08-28\t11:00:00\t18.2\n",
        "#Det vill säga 0, vilket är index platsen på listan"
      ],
      "execution_count": null,
      "outputs": []
    },
    {
      "cell_type": "markdown",
      "metadata": {
        "id": "BrFp68Sidy01"
      },
      "source": [
        "## Uppgift 12\n",
        "\n",
        "Restaurang varvet har börjat använda swish i hög utsträckning, dock har de ett problem. Kassans dagliga sammanställning stämmer inte med summan som levereras från banken på hur mycket pengar som inkommit. Anledningen är att banken inte sammanställer swishinkomster per dag. Ägaren behöver därför göra detta manuellt vilket tar mycket tid. \n",
        "\n",
        "Uppgiften är därmed att beräkna en totalsumma av swishinbetalningar per dag och leverera denna sammanställning i en ny fil som ni sedan kan skicka till ägaren för att underlätta dennes arbete. Ni läser in filen på samma sätt som i föregående övning, även denna fil har ; som separator. Som hjälp har också de bibliotek ni behöver för att genomföra uppgiften importerats. Skapa lämligt antal nya kodblock för att utföra uppgiften. \n",
        "\n",
        "\n"
      ]
    },
    {
      "cell_type": "code",
      "metadata": {
        "id": "n1wPpoVtdy02",
        "colab": {
          "base_uri": "https://localhost:8080/",
          "height": 626
        },
        "outputId": "998ceda6-f831-49f1-8161-201b7bf43bfa"
      },
      "source": [
        "#12 Importerar nädvändiga bibliotek\n",
        "\n",
        "import pandas as pd\n",
        "import dateutil\n",
        "import csv as csv\n",
        "\n",
        "#12 - Läser filen, separerar den och ändrar deciameler\n",
        "swish_history= pd.read_csv(\"Kontohandelser_swish.csv\", sep=';', decimal=',')\n",
        "swish_history\n"
      ],
      "execution_count": 65,
      "outputs": [
        {
          "output_type": "execute_result",
          "data": {
            "text/html": [
              "<div>\n",
              "<style scoped>\n",
              "    .dataframe tbody tr th:only-of-type {\n",
              "        vertical-align: middle;\n",
              "    }\n",
              "\n",
              "    .dataframe tbody tr th {\n",
              "        vertical-align: top;\n",
              "    }\n",
              "\n",
              "    .dataframe thead th {\n",
              "        text-align: right;\n",
              "    }\n",
              "</style>\n",
              "<table border=\"1\" class=\"dataframe\">\n",
              "  <thead>\n",
              "    <tr style=\"text-align: right;\">\n",
              "      <th></th>\n",
              "      <th>Bokföringsdatum</th>\n",
              "      <th>Valutadatum</th>\n",
              "      <th>Text/mottagare</th>\n",
              "      <th>Belopp</th>\n",
              "      <th>Valuta</th>\n",
              "      <th>Referens</th>\n",
              "      <th>Mottagarens Swishnamn</th>\n",
              "      <th>Swishreferens</th>\n",
              "      <th>Ursprungsreferens Swish</th>\n",
              "    </tr>\n",
              "  </thead>\n",
              "  <tbody>\n",
              "    <tr>\n",
              "      <th>0</th>\n",
              "      <td>2020-06-26</td>\n",
              "      <td>2020-06-26</td>\n",
              "      <td>46733395456</td>\n",
              "      <td>50.0</td>\n",
              "      <td>SEK</td>\n",
              "      <td>6149365736410480</td>\n",
              "      <td>Restaurang Varvet</td>\n",
              "      <td>B7FE4F39756D436B82C3CF736B800A8F</td>\n",
              "      <td>NaN</td>\n",
              "    </tr>\n",
              "    <tr>\n",
              "      <th>1</th>\n",
              "      <td>2020-06-26</td>\n",
              "      <td>2020-06-26</td>\n",
              "      <td>46705664550</td>\n",
              "      <td>90.0</td>\n",
              "      <td>SEK</td>\n",
              "      <td>6149339903660557</td>\n",
              "      <td>Restaurang Varvet</td>\n",
              "      <td>C9C02357E1E24C188D46CAF8F67D784F</td>\n",
              "      <td>NaN</td>\n",
              "    </tr>\n",
              "    <tr>\n",
              "      <th>2</th>\n",
              "      <td>2020-06-26</td>\n",
              "      <td>2020-06-26</td>\n",
              "      <td>46708765709</td>\n",
              "      <td>1250.0</td>\n",
              "      <td>SEK</td>\n",
              "      <td>6149296566940348</td>\n",
              "      <td>Restaurang Varvet</td>\n",
              "      <td>E276BCEB71734C6186A58FFE3E2AB190</td>\n",
              "      <td>NaN</td>\n",
              "    </tr>\n",
              "    <tr>\n",
              "      <th>3</th>\n",
              "      <td>2020-06-26</td>\n",
              "      <td>2020-06-26</td>\n",
              "      <td>46733813001</td>\n",
              "      <td>3100.0</td>\n",
              "      <td>SEK</td>\n",
              "      <td>6149285964410607</td>\n",
              "      <td>Restaurang Varvet</td>\n",
              "      <td>CC9D22E8CEB74227B977D8CCE3A49252</td>\n",
              "      <td>NaN</td>\n",
              "    </tr>\n",
              "    <tr>\n",
              "      <th>4</th>\n",
              "      <td>2020-06-26</td>\n",
              "      <td>2020-06-26</td>\n",
              "      <td>46705562211</td>\n",
              "      <td>4200.0</td>\n",
              "      <td>SEK</td>\n",
              "      <td>6149272710660318</td>\n",
              "      <td>Restaurang Varvet</td>\n",
              "      <td>094D75664B664C73B16726E0750A3217</td>\n",
              "      <td>NaN</td>\n",
              "    </tr>\n",
              "    <tr>\n",
              "      <th>...</th>\n",
              "      <td>...</td>\n",
              "      <td>...</td>\n",
              "      <td>...</td>\n",
              "      <td>...</td>\n",
              "      <td>...</td>\n",
              "      <td>...</td>\n",
              "      <td>...</td>\n",
              "      <td>...</td>\n",
              "      <td>...</td>\n",
              "    </tr>\n",
              "    <tr>\n",
              "      <th>235</th>\n",
              "      <td>2020-06-22</td>\n",
              "      <td>2020-06-20</td>\n",
              "      <td>46733108565</td>\n",
              "      <td>1215.0</td>\n",
              "      <td>SEK</td>\n",
              "      <td>6143862357590191</td>\n",
              "      <td>Restaurang Varvet</td>\n",
              "      <td>32BA3E34F5FE4C74B62319DC94FF17A9</td>\n",
              "      <td>NaN</td>\n",
              "    </tr>\n",
              "    <tr>\n",
              "      <th>236</th>\n",
              "      <td>2020-06-22</td>\n",
              "      <td>2020-06-20</td>\n",
              "      <td>46701468120</td>\n",
              "      <td>1650.0</td>\n",
              "      <td>SEK</td>\n",
              "      <td>6143862097150425</td>\n",
              "      <td>Restaurang Varvet</td>\n",
              "      <td>55818BCB6A0A41DBBB236D3E06367542</td>\n",
              "      <td>NaN</td>\n",
              "    </tr>\n",
              "    <tr>\n",
              "      <th>237</th>\n",
              "      <td>2020-06-22</td>\n",
              "      <td>2020-06-20</td>\n",
              "      <td>46725422666</td>\n",
              "      <td>460.0</td>\n",
              "      <td>SEK</td>\n",
              "      <td>6143856329170623</td>\n",
              "      <td>Restaurang Varvet</td>\n",
              "      <td>29287A117D1F4621A27BA8ADAD39EF79</td>\n",
              "      <td>NaN</td>\n",
              "    </tr>\n",
              "    <tr>\n",
              "      <th>238</th>\n",
              "      <td>2020-06-22</td>\n",
              "      <td>2020-06-20</td>\n",
              "      <td>46707597200</td>\n",
              "      <td>80.0</td>\n",
              "      <td>SEK</td>\n",
              "      <td>6143853935200667</td>\n",
              "      <td>Restaurang Varvet</td>\n",
              "      <td>D83C8298BAAC4B3E925073126D618999</td>\n",
              "      <td>NaN</td>\n",
              "    </tr>\n",
              "    <tr>\n",
              "      <th>239</th>\n",
              "      <td>2020-06-22</td>\n",
              "      <td>2020-06-20</td>\n",
              "      <td>46733426445</td>\n",
              "      <td>230.0</td>\n",
              "      <td>SEK</td>\n",
              "      <td>6143852821500778</td>\n",
              "      <td>Restaurang Varvet</td>\n",
              "      <td>A85D8FFE173E43F196AE03DFC74BE115</td>\n",
              "      <td>NaN</td>\n",
              "    </tr>\n",
              "  </tbody>\n",
              "</table>\n",
              "<p>240 rows × 9 columns</p>\n",
              "</div>"
            ],
            "text/plain": [
              "    Bokföringsdatum  ... Ursprungsreferens Swish\n",
              "0        2020-06-26  ...                     NaN\n",
              "1        2020-06-26  ...                     NaN\n",
              "2        2020-06-26  ...                     NaN\n",
              "3        2020-06-26  ...                     NaN\n",
              "4        2020-06-26  ...                     NaN\n",
              "..              ...  ...                     ...\n",
              "235      2020-06-22  ...                     NaN\n",
              "236      2020-06-22  ...                     NaN\n",
              "237      2020-06-22  ...                     NaN\n",
              "238      2020-06-22  ...                     NaN\n",
              "239      2020-06-22  ...                     NaN\n",
              "\n",
              "[240 rows x 9 columns]"
            ]
          },
          "metadata": {
            "tags": []
          },
          "execution_count": 65
        }
      ]
    },
    {
      "cell_type": "code",
      "metadata": {
        "id": "VCq2YMaviU3C"
      },
      "source": [
        "#12 - Använder mig av grupp by för att grupperar valuta datum och sedan summera belopp för varje dag\n",
        "\n",
        "dagliga_history= swish_history.groupby(swish_history['Valutadatum'])['Belopp'].sum()\n"
      ],
      "execution_count": 103,
      "outputs": []
    },
    {
      "cell_type": "code",
      "metadata": {
        "id": "cTB-7T1uisoe"
      },
      "source": [
        "#12 - Skriver datat till en .csv fil\n",
        "\n",
        "df = pd.DataFrame(dagliga_history)\n",
        "df.to_csv('dagliga_history.csv') \n"
      ],
      "execution_count": 104,
      "outputs": []
    }
  ]
}