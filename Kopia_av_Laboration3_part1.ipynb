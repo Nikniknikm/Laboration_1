{
  "nbformat": 4,
  "nbformat_minor": 0,
  "metadata": {
    "colab": {
      "name": "Kopia av Laboration3_part1.ipynb",
      "provenance": [],
      "collapsed_sections": [],
      "toc_visible": true,
      "include_colab_link": true
    },
    "kernelspec": {
      "display_name": "Python 3",
      "language": "python",
      "name": "python3"
    },
    "language_info": {
      "codemirror_mode": {
        "name": "ipython",
        "version": 3
      },
      "file_extension": ".py",
      "mimetype": "text/x-python",
      "name": "python",
      "nbconvert_exporter": "python",
      "pygments_lexer": "ipython3",
      "version": "3.7.4"
    }
  },
  "cells": [
    {
      "cell_type": "markdown",
      "metadata": {
        "id": "view-in-github",
        "colab_type": "text"
      },
      "source": [
        "<a href=\"https://colab.research.google.com/github/Nikniknikm/Laboration_1/blob/master/Kopia_av_Laboration3_part1.ipynb\" target=\"_parent\"><img src=\"https://colab.research.google.com/assets/colab-badge.svg\" alt=\"Open In Colab\"/></a>"
      ]
    },
    {
      "cell_type": "markdown",
      "metadata": {
        "id": "wbtZXTuGS0pH"
      },
      "source": [
        "# Laboration 3 part 1 Regression\n",
        "\n",
        "In this part of laboratory 3 you will perform some different types of regression analysis on a dataset with weather data. Feel free to watch the lecture videos for lecture 6 that goes through regression (part 2 and 4 are most important). \n",
        "\n",
        "In the laboratory, only questions that have a **Q** in front should be answered (You may have to do some coding to be able to answer the question in some cases while in others there is only theoretical questions.). \n",
        "\n",
        "\n",
        "Tasks that are not questions but only coding are marked with **C**, these are also mandatory.\n",
        "\n",
        "Example:\n",
        "\n",
        "**Q** How many men and women have answered the survey? (Here it is preferable to do some coding to easily find the answer.)\n",
        "\n",
        "**C** Encode a function that calculates the 20 most common words in your data set.\n",
        "\n",
        "*When we correct the laboration we will not look specifically on how you did your coding to answer questions, but look at whether the answer is correct or not when it comes to questions marked with **Q** .*\n",
        "\n",
        "**This part of the laboration will be corrected by Soraya (and Elin) and therefore you need to write your answers in English!**\n",
        "\n",
        "**You are expected to add code blocks or text (markdown) blocks when needed. Make sure to use enough cells to make you code easy to read i.e. try to only make one thing in each cell.**"
      ]
    },
    {
      "cell_type": "markdown",
      "metadata": {
        "id": "68jEwhqwLpkw"
      },
      "source": [
        "An initial import of a few of the required libraries is already coded, below. When you need other libraries you can add them in this cell or in the cell where you need them further in the lab. "
      ]
    },
    {
      "cell_type": "code",
      "metadata": {
        "id": "GrIbIFt8S0pM"
      },
      "source": [
        "# Import Pandas Library, used for data manipulation\n",
        "# Import matplotlib, used to plot our data\n",
        "# Import nump for mathemtical operations\n",
        "import pandas as pd\n",
        "import matplotlib.pyplot as plt\n",
        "import numpy as np\n",
        "import seaborn as sns"
      ],
      "execution_count": 7,
      "outputs": []
    },
    {
      "cell_type": "markdown",
      "metadata": {
        "id": "ssaLXiXHS0pN"
      },
      "source": [
        "## Data\n",
        "\n",
        "Start by: \n",
        "**C** Importing our dataset and store it in a suitable format with the name `weather_data`. "
      ]
    },
    {
      "cell_type": "code",
      "metadata": {
        "id": "_c0XOWUVS0pN",
        "colab": {
          "base_uri": "https://localhost:8080/",
          "height": 204
        },
        "outputId": "31470ef7-f921-48c4-9398-19cc043c9074"
      },
      "source": [
        "# Import our WeatherData and store it in the variable weather_data \n",
        "weather_data = pd.read_csv(\"WeatherData_lab3.csv\", sep=\";\")\n",
        "# Display the data in the notebook\n",
        "weather_data.head()"
      ],
      "execution_count": 27,
      "outputs": [
        {
          "output_type": "execute_result",
          "data": {
            "text/html": [
              "<div>\n",
              "<style scoped>\n",
              "    .dataframe tbody tr th:only-of-type {\n",
              "        vertical-align: middle;\n",
              "    }\n",
              "\n",
              "    .dataframe tbody tr th {\n",
              "        vertical-align: top;\n",
              "    }\n",
              "\n",
              "    .dataframe thead th {\n",
              "        text-align: right;\n",
              "    }\n",
              "</style>\n",
              "<table border=\"1\" class=\"dataframe\">\n",
              "  <thead>\n",
              "    <tr style=\"text-align: right;\">\n",
              "      <th></th>\n",
              "      <th>Temperature (C)</th>\n",
              "      <th>Wind Speed (km/h)</th>\n",
              "      <th>Pressure (millibars)</th>\n",
              "      <th>Humidity</th>\n",
              "      <th>Sunshine</th>\n",
              "      <th>Cloud</th>\n",
              "      <th>RainToday</th>\n",
              "      <th>Visibility (km)</th>\n",
              "    </tr>\n",
              "  </thead>\n",
              "  <tbody>\n",
              "    <tr>\n",
              "      <th>0</th>\n",
              "      <td>9.472222</td>\n",
              "      <td>14.1197</td>\n",
              "      <td>1015.13</td>\n",
              "      <td>0.89</td>\n",
              "      <td>NaN</td>\n",
              "      <td>8.0</td>\n",
              "      <td>No</td>\n",
              "      <td>15.8263</td>\n",
              "    </tr>\n",
              "    <tr>\n",
              "      <th>1</th>\n",
              "      <td>9.355556</td>\n",
              "      <td>14.2646</td>\n",
              "      <td>1015.63</td>\n",
              "      <td>0.86</td>\n",
              "      <td>NaN</td>\n",
              "      <td>NaN</td>\n",
              "      <td>No</td>\n",
              "      <td>15.8263</td>\n",
              "    </tr>\n",
              "    <tr>\n",
              "      <th>2</th>\n",
              "      <td>9.377778</td>\n",
              "      <td>3.9284</td>\n",
              "      <td>1015.94</td>\n",
              "      <td>0.89</td>\n",
              "      <td>NaN</td>\n",
              "      <td>NaN</td>\n",
              "      <td>No</td>\n",
              "      <td>14.9569</td>\n",
              "    </tr>\n",
              "    <tr>\n",
              "      <th>3</th>\n",
              "      <td>8.288889</td>\n",
              "      <td>14.1036</td>\n",
              "      <td>1016.41</td>\n",
              "      <td>0.83</td>\n",
              "      <td>NaN</td>\n",
              "      <td>NaN</td>\n",
              "      <td>No</td>\n",
              "      <td>15.8263</td>\n",
              "    </tr>\n",
              "    <tr>\n",
              "      <th>4</th>\n",
              "      <td>8.755556</td>\n",
              "      <td>11.0446</td>\n",
              "      <td>1016.51</td>\n",
              "      <td>0.83</td>\n",
              "      <td>NaN</td>\n",
              "      <td>7.0</td>\n",
              "      <td>No</td>\n",
              "      <td>15.8263</td>\n",
              "    </tr>\n",
              "  </tbody>\n",
              "</table>\n",
              "</div>"
            ],
            "text/plain": [
              "   Temperature (C)  Wind Speed (km/h)  ...  RainToday  Visibility (km)\n",
              "0         9.472222            14.1197  ...         No          15.8263\n",
              "1         9.355556            14.2646  ...         No          15.8263\n",
              "2         9.377778             3.9284  ...         No          14.9569\n",
              "3         8.288889            14.1036  ...         No          15.8263\n",
              "4         8.755556            11.0446  ...         No          15.8263\n",
              "\n",
              "[5 rows x 8 columns]"
            ]
          },
          "metadata": {
            "tags": []
          },
          "execution_count": 27
        }
      ]
    },
    {
      "cell_type": "markdown",
      "metadata": {
        "id": "xpXDHqy2S0pP"
      },
      "source": [
        "## Exploratory analysis\n",
        " \n",
        "\n",
        "**Q** What type of data is in the dataset? (HINT! dtype and type of variable: categorial/continous) \n",
        "\n",
        "**Q** How many rows and columns, number of datapoints?\n",
        "\n",
        "**Q** How do you interpret the different columns, write a short sentence that describes each column.\n",
        "\n",
        "**C** Rename columns that have unsuitable names for the columns or if the columns have names that are difficult to interpret. (IF everything looks good, you don't need to do anything here)\n",
        "\n",
        "**C** Code suitable visualisations that show the relationship between the different variables in the dataset (in two dimensions). Include labels on x and y axis and display a legend for the visualisation(s). You can choose if you want to visualise each relationship in its own plot or if you want to plot all relationships in one visualisation, if you choose the latter, you need to make it possible to distinguish between the different variables.\n",
        "\n",
        "**Q** What kinds of relationship can you see between the different variables? \n"
      ]
    },
    {
      "cell_type": "markdown",
      "metadata": {
        "id": "7z-zXDAON3r9"
      },
      "source": [
        " **Q1-**INT(Numeric data) "
      ]
    },
    {
      "cell_type": "code",
      "metadata": {
        "id": "CgugRGwcN7A7"
      },
      "source": [
        "#Q2-\n",
        "weather_data.count\n",
        "#ANSWER: 50 rows and 8 columns, 8 datapoints"
      ],
      "execution_count": null,
      "outputs": []
    },
    {
      "cell_type": "markdown",
      "metadata": {
        "id": "k_xatYkqQafY"
      },
      "source": [
        "**Q3-** Temperature: Shows daily temp in form of int, wind speed: Shows the wind speed in km/h in form of int, Pressure: Shows daily pressure in form of int, Humidity: Shows how much it is humidity in form of int, Sunshine: if it has been sunny or not, Cloud: if it has been cloudy in form of int, (how many cloud has been visible in the sky), RainToday: true/false if it has rained, visibility: in form of int, how long can you see in km"
      ]
    },
    {
      "cell_type": "code",
      "metadata": {
        "id": "ZiDrgaa7VEaE"
      },
      "source": [
        "#C4- Rename columns\n",
        "#ANSWER: Columns name are easy to interpret and i choosed to keep it as it is."
      ],
      "execution_count": null,
      "outputs": []
    },
    {
      "cell_type": "code",
      "metadata": {
        "id": "MIDnPQH7VfyL"
      },
      "source": [
        "#C5-\n",
        "sns.pairplot(weather_data)"
      ],
      "execution_count": null,
      "outputs": []
    },
    {
      "cell_type": "markdown",
      "metadata": {
        "id": "U7x_N7S4Xwqn"
      },
      "source": [
        "**Q6-** I can see that tempreture and winde speed have a realation witch shows that as the temperature increase, the wind speed increase too. There is also realtionship between temperature and humidity witch shows that humidity sinks as tempereture sinks.\n"
      ]
    },
    {
      "cell_type": "markdown",
      "metadata": {
        "id": "buX04Ow2S0pQ"
      },
      "source": [
        "## Data cleaning and feature engineering\n",
        "\n",
        "**Q** Are there any missing values? If yes, what is your interpretation of the reason(s) and what type of missing values? (HINT! MCAR;MAR;NMAR)\n",
        "\n",
        "**C** Handle any missing values in a suitable way (if there are none, you don't need to do anything here). Make sure you changes are saved in you dataframe.\n",
        "\n",
        "**Q** Are there any variables that need further cleaning/feature engineering such as changing dtype/calculations to improve categorial features etc? \n",
        "\n",
        "**Q** IS there a need fo standardization/normalization or scaling of variables? Why/why not? (Motivate for each of them)\n",
        "\n",
        "**C** If yes on any of the above, fix this column and make sure to make the changes on your existing dataframe.\n",
        "\n"
      ]
    },
    {
      "cell_type": "markdown",
      "metadata": {
        "id": "4kfOLP4zYCDB"
      },
      "source": [
        "**Q1-** Yes in \"sunshine\",\"cloud\" and \"RainToday\"columns.\n",
        "Sunshine column miss values and it can depend on that they have forgot to collect data.\n",
        "Cloud column miss some values and it can depend on that it has been difficult to collect data.\n",
        "RainToday column miss some values and it can depend on that they forgot to collect data.\n",
        "MCAR : Missing completely at random\n",
        "MAR: Missing at random\n",
        "MNAR: Missing not at random\n",
        "\n",
        "\n"
      ]
    },
    {
      "cell_type": "code",
      "metadata": {
        "id": "iLiPSaXOYPUG"
      },
      "source": [
        "#C 2- Handle missing values\n",
        "\n",
        "weather_data.drop(['Sunshine','Cloud','Visibility (km)'], axis = 1, inplace=True)\n",
        "\n",
        "#I choosed to drop sunshine, cloud and visibility (km) columns because the value is not important for this analys"
      ],
      "execution_count": 28,
      "outputs": []
    },
    {
      "cell_type": "code",
      "metadata": {
        "id": "iXuPJUKO-pFU"
      },
      "source": [
        "weather_data.head()"
      ],
      "execution_count": null,
      "outputs": []
    },
    {
      "cell_type": "markdown",
      "metadata": {
        "id": "kOJRxa3CYJ4D"
      },
      "source": [
        "**Q3-**  RainToday values need to be changed from string to int. Because the algorithms can perform better. So i will assign unique numeric value to a string value in Pandas DataFrame."
      ]
    },
    {
      "cell_type": "markdown",
      "metadata": {
        "id": "rLhicFo0YSkU"
      },
      "source": [
        "**Q4-** **Normalization** is a scaling technique in which values are shifted and rescaled so that they end up ranging between 0 and 1. It is also known as Min-Max scaling.\n",
        "\n",
        "**Standardization** is another scaling technique where the values are centered around the mean with a unit standard deviation. This means that the mean of the attribute becomes zero and the resultant distribution has a unit standard deviation.\n",
        "\n",
        "*(https://www.analyticsvidhya.com/blog/2020/04/feature-scaling-machine-learning-normalization-standardization/)*\n",
        "\n",
        "I think that normalization can be good to use when you know that the distribution of the data does not follow a Gaussian distribution, but i don´t think that this is necessary for this data."
      ]
    },
    {
      "cell_type": "code",
      "metadata": {
        "id": "gzySNEhrYXD5"
      },
      "source": [
        "#C 5- String to int (RainToday)\n",
        "\n",
        "weather_data.sort_values('RainToday',inplace= True)\n",
        "#Replace yes to 1\n",
        "weather_data.RainToday[weather_data.RainToday == 'Yes'] = 1\n",
        "#Replace no to 2\n",
        "weather_data.RainToday[weather_data.RainToday == 'No'] = 2\n",
        "#Replace NA to 0\n",
        "weather_data = weather_data.fillna(0) \n"
      ],
      "execution_count": null,
      "outputs": []
    },
    {
      "cell_type": "code",
      "metadata": {
        "id": "ZjS1wSGew_MG"
      },
      "source": [
        "weather_data"
      ],
      "execution_count": null,
      "outputs": []
    },
    {
      "cell_type": "markdown",
      "metadata": {
        "id": "jw64S9VPS0pQ"
      },
      "source": [
        "## Linear Regression\n",
        "\n",
        "### Your first task in regards to modeling is to do a simple linear regression, using only two of the variables present in the dataset.\n",
        "\n",
        "To help you further the codeblock below show a heatmap of the correlation between the different varaibles. Also, another codeblock show a pairplot that visualize the relationsship between pairwise variables, it is coded using the seaborn library.\n",
        "\n"
      ]
    },
    {
      "cell_type": "code",
      "metadata": {
        "id": "WD1O1swFS0pQ",
        "colab": {
          "base_uri": "https://localhost:8080/",
          "height": 356
        },
        "outputId": "d31ebaf8-de93-46a5-e288-8b3d3b00a778"
      },
      "source": [
        "#seaborn heatmap\n",
        "corrMatrix = weather_data.corr()\n",
        "sns.heatmap(corrMatrix, annot=True)\n",
        "plt.show()"
      ],
      "execution_count": 39,
      "outputs": [
        {
          "output_type": "display_data",
          "data": {
            "image/png": "[encoded data removed]",
            "text/plain": [
              "<Figure size 432x288 with 2 Axes>"
            ]
          },
          "metadata": {
            "tags": [],
            "needs_background": "light"
          }
        }
      ]
    },
    {
      "cell_type": "code",
      "metadata": {
        "id": "zCaFuVm-S0pR",
        "colab": {
          "base_uri": "https://localhost:8080/",
          "height": 920
        },
        "outputId": "6d4da683-e08e-42f4-d9e3-fe5a4c257155"
      },
      "source": [
        "#seaborn pairplot\n",
        "sns.pairplot(weather_data)"
      ],
      "execution_count": 40,
      "outputs": [
        {
          "output_type": "execute_result",
          "data": {
            "text/plain": [
              "<seaborn.axisgrid.PairGrid at 0x7f8c7c1a8e90>"
            ]
          },
          "metadata": {
            "tags": []
          },
          "execution_count": 40
        },
        {
          "output_type": "display_data",
          "data": {
            "image/png": "[encoded data removed]",
            "text/plain": [
              "<Figure size 900x900 with 30 Axes>"
            ]
          },
          "metadata": {
            "tags": [],
            "needs_background": "light"
          }
        }
      ]
    },
    {
      "cell_type": "markdown",
      "metadata": {
        "id": "5-B8rV_oS0pR"
      },
      "source": [
        "**Q** Based on the heat map and your visualisations on relationships, which two variables (one for input (x) and another for output (y) would you consider most appropriate for doing a linear regression analysis? \n",
        "\n",
        "HINT! THe table below (from [this page](https://www.statology.org/what-is-a-strong-correlation/))helps you interpret the heatmap. **A must in a linear regression model is to have a linear relationship between the variables!**\n",
        "\n",
        "r in the table below is the Pearson correlation coefficient that pandas calculate for us (Note that it it the absolut value of r, the correclation coefficent can be both negative and positive). Also see [pandas documentation on correlation calculations](https://pandas.pydata.org/pandas-docs/stable/reference/api/pandas.DataFrame.corr.html).\n",
        "\n",
        "| Absolute value of r    | Strength of relationship|        \n",
        "|------------------------|-------------------------|\n",
        "| r < 0.25               |No relationship          |\n",
        "| 0.25 < r < 0.5         |Weak relationship        |\n",
        "| 0.5 < r < 0.75         |Moderate relationship    |\n",
        "| r > 0.75               |Strong relationship      |\n",
        "\n",
        "\n",
        "**Q** Which column should represent the independent variable, x, and the dependent variable, y (the one you want to predict). In order to get the best possible prediction of y? \n",
        "Motivate your answer\n",
        "\n",
        "**C** Investigate if there are any outliers in the two variables you have chosen, if so, handle them in a suitable way. \n",
        "\n",
        "**Q** Why did you choose to handle/not handle the outliers in the two variables?"
      ]
    },
    {
      "cell_type": "markdown",
      "metadata": {
        "id": "8jkls-dJe-8Y"
      },
      "source": [
        "**Q 1-** Temp and humidity, because they have strong relationship that is +0.75."
      ]
    },
    {
      "cell_type": "markdown",
      "metadata": {
        "id": "ILFmH3clfS1y"
      },
      "source": [
        "**Q 2-** x should be temperature and y should be humidity because humidity is depended on temperature"
      ]
    },
    {
      "cell_type": "code",
      "metadata": {
        "colab": {
          "base_uri": "https://localhost:8080/",
          "height": 282
        },
        "id": "ReFr8Va84EcK",
        "outputId": "ad9cb350-bc02-471c-94ab-a57939a3f527"
      },
      "source": [
        "#C3- Outliers\n",
        "\n",
        "weather_data.boxplot(column =['Humidity']) \n",
        "\n",
        "#No outliners to handle"
      ],
      "execution_count": 54,
      "outputs": [
        {
          "output_type": "execute_result",
          "data": {
            "text/plain": [
              "<matplotlib.axes._subplots.AxesSubplot at 0x7f8c7ab78ad0>"
            ]
          },
          "metadata": {
            "tags": []
          },
          "execution_count": 54
        },
        {
          "output_type": "display_data",
          "data": {
            "image/png": "[encoded data removed]",
            "text/plain": [
              "<Figure size 432x288 with 1 Axes>"
            ]
          },
          "metadata": {
            "tags": [],
            "needs_background": "light"
          }
        }
      ]
    },
    {
      "cell_type": "code",
      "metadata": {
        "colab": {
          "base_uri": "https://localhost:8080/",
          "height": 282
        },
        "id": "-HbiGjX2WtRK",
        "outputId": "ea5f8e00-1446-4389-8e01-66a821e574ca"
      },
      "source": [
        "#C3- Outliers\n",
        "\n",
        "weather_data.boxplot(column =['Temperature (C)']) \n",
        "\n",
        "#No outliners to handle"
      ],
      "execution_count": 57,
      "outputs": [
        {
          "output_type": "execute_result",
          "data": {
            "text/plain": [
              "<matplotlib.axes._subplots.AxesSubplot at 0x7f8c7acc8790>"
            ]
          },
          "metadata": {
            "tags": []
          },
          "execution_count": 57
        },
        {
          "output_type": "display_data",
          "data": {
            "image/png": "[encoded data removed]",
            "text/plain": [
              "<Figure size 432x288 with 1 Axes>"
            ]
          },
          "metadata": {
            "tags": [],
            "needs_background": "light"
          }
        }
      ]
    },
    {
      "cell_type": "markdown",
      "metadata": {
        "id": "bUKQ708Ifuwk"
      },
      "source": [
        "**Q 4-** Based on boxplot results there is no outliers to handle, so i choose to keep it as it is."
      ]
    },
    {
      "cell_type": "markdown",
      "metadata": {
        "id": "6wBRpr8_Lpk0"
      },
      "source": [
        "### Modeling\n",
        "\n",
        "**C** Assign the correct values to x and y in the codeblock provided below. (NOTE! You should call values().reshape() on x because scikit_learn requires input to be in the form of two dimensional arrays i.e. a numpy array (created by pandas.values() in 2D ()created by numpy.reshape()). Or to be more precise, to have one column and as many rows as necessary. That’s exactly what the argument (-1, 1) of .reshape() specifies. See also [numpy documentation](https://numpy.org/doc/stable/reference/generated/numpy.reshape.html) and [scikit_learn documentation](https://scikit-learn.org/stable/modules/generated/sklearn.linear_model.LinearRegression.html?highlight=linear%20regression#sklearn.linear_model.LinearRegression)\n",
        "\n",
        "The code already visible below imports the correct scikit_learn model (LinearRegression) in order to perform the training. Further, code is provided that performs the splitting of data into training and test and also performs the training on the trainingdataset and prediction on both the test and training datasets. \n",
        "\n",
        "**Q** What does the last three lines in the codeblock below do?"
      ]
    },
    {
      "cell_type": "code",
      "metadata": {
        "id": "KT5TlabjS0pR",
        "scrolled": true,
        "colab": {
          "base_uri": "https://localhost:8080/"
        },
        "outputId": "3cd3ad9a-8353-4dce-c641-6fd822baa1fa"
      },
      "source": [
        "#C1- Correct values to x and y\n",
        "\n",
        "from sklearn.linear_model import LinearRegression\n",
        "from sklearn.model_selection import train_test_split\n",
        "\n",
        "#Insert the correct x and y \n",
        "\n",
        "x = weather_data.iloc[:, :1]\n",
        "\n",
        "y= weather_data['Humidity']\n",
        "\n",
        "\n",
        "#Split into traning and testing\n",
        "x_train, x_test, y_train, y_test = train_test_split(x, y, test_size=0.2, random_state=42)\n",
        "\n",
        "#train\n",
        "lr_model = LinearRegression(fit_intercept=True)\n",
        "lr_model.fit(x_train, y_train)\n",
        "\n",
        "#Predict (here done on both test and traingset)\n",
        "y_pred_train =lr_model.predict(x_train)\n",
        "y_pred_test = lr_model.predict(x_test)\n",
        "\n",
        "theta_0 = lr_model.intercept_\n",
        "theta_1 = lr_model.coef_\n",
        "theta_0, theta_1\n"
      ],
      "execution_count": 223,
      "outputs": [
        {
          "output_type": "execute_result",
          "data": {
            "text/plain": [
              "(1.1248008758119692, array([-0.03454794]))"
            ]
          },
          "metadata": {
            "tags": []
          },
          "execution_count": 223
        }
      ]
    },
    {
      "cell_type": "markdown",
      "metadata": {
        "id": "f6rATQ83bS1f"
      },
      "source": [
        "**Q2-** Make two new variable theta_0 and theta_1 where\n",
        " theta_0 is the lowest value in trained models.\n",
        "theta_1 is the value that is higher than the other values in trained models.\n",
        " And then we write out values of theta_0 and theta_1"
      ]
    },
    {
      "cell_type": "markdown",
      "metadata": {
        "id": "1l5zJNTCS0pS"
      },
      "source": [
        "**C** Create a new dataframe with two columns, one with the actual values in the testset and one with the predicted values on the testset. \n",
        "\n",
        "**Q**What is your interpretation of the correctness of your model?"
      ]
    },
    {
      "cell_type": "code",
      "metadata": {
        "id": "QmIuMu6qS0pS",
        "colab": {
          "base_uri": "https://localhost:8080/",
          "height": 359
        },
        "outputId": "97f1d0d2-92ca-421f-bbb8-7b3a7e66dc7d"
      },
      "source": [
        "#C3- New dataframe with two columns\n",
        "\n",
        "df_compare = pd.DataFrame({\"Test\": y_test, \"Pred\": y_pred_test})\n",
        "df_compare"
      ],
      "execution_count": 224,
      "outputs": [
        {
          "output_type": "execute_result",
          "data": {
            "text/html": [
              "<div>\n",
              "<style scoped>\n",
              "    .dataframe tbody tr th:only-of-type {\n",
              "        vertical-align: middle;\n",
              "    }\n",
              "\n",
              "    .dataframe tbody tr th {\n",
              "        vertical-align: top;\n",
              "    }\n",
              "\n",
              "    .dataframe thead th {\n",
              "        text-align: right;\n",
              "    }\n",
              "</style>\n",
              "<table border=\"1\" class=\"dataframe\">\n",
              "  <thead>\n",
              "    <tr style=\"text-align: right;\">\n",
              "      <th></th>\n",
              "      <th>Test</th>\n",
              "      <th>Pred</th>\n",
              "    </tr>\n",
              "  </thead>\n",
              "  <tbody>\n",
              "    <tr>\n",
              "      <th>7</th>\n",
              "      <td>0.89</td>\n",
              "      <td>0.821739</td>\n",
              "    </tr>\n",
              "    <tr>\n",
              "      <th>40</th>\n",
              "      <td>0.40</td>\n",
              "      <td>0.429812</td>\n",
              "    </tr>\n",
              "    <tr>\n",
              "      <th>31</th>\n",
              "      <td>0.83</td>\n",
              "      <td>0.855327</td>\n",
              "    </tr>\n",
              "    <tr>\n",
              "      <th>46</th>\n",
              "      <td>0.58</td>\n",
              "      <td>0.626543</td>\n",
              "    </tr>\n",
              "    <tr>\n",
              "      <th>1</th>\n",
              "      <td>0.86</td>\n",
              "      <td>0.801586</td>\n",
              "    </tr>\n",
              "    <tr>\n",
              "      <th>25</th>\n",
              "      <td>0.66</td>\n",
              "      <td>0.782392</td>\n",
              "    </tr>\n",
              "    <tr>\n",
              "      <th>48</th>\n",
              "      <td>0.60</td>\n",
              "      <td>0.648999</td>\n",
              "    </tr>\n",
              "    <tr>\n",
              "      <th>0</th>\n",
              "      <td>0.89</td>\n",
              "      <td>0.797555</td>\n",
              "    </tr>\n",
              "    <tr>\n",
              "      <th>33</th>\n",
              "      <td>0.72</td>\n",
              "      <td>0.702548</td>\n",
              "    </tr>\n",
              "    <tr>\n",
              "      <th>19</th>\n",
              "      <td>0.70</td>\n",
              "      <td>0.670687</td>\n",
              "    </tr>\n",
              "  </tbody>\n",
              "</table>\n",
              "</div>"
            ],
            "text/plain": [
              "    Test      Pred\n",
              "7   0.89  0.821739\n",
              "40  0.40  0.429812\n",
              "31  0.83  0.855327\n",
              "46  0.58  0.626543\n",
              "1   0.86  0.801586\n",
              "25  0.66  0.782392\n",
              "48  0.60  0.648999\n",
              "0   0.89  0.797555\n",
              "33  0.72  0.702548\n",
              "19  0.70  0.670687"
            ]
          },
          "metadata": {
            "tags": []
          },
          "execution_count": 224
        }
      ]
    },
    {
      "cell_type": "markdown",
      "metadata": {
        "id": "2dkMT-vHaoUL"
      },
      "source": [
        "**Q 4-** Value of the test data is the rounded value of the pred data."
      ]
    },
    {
      "cell_type": "markdown",
      "metadata": {
        "id": "0TNQ-MZiS0pS"
      },
      "source": [
        "**C** Code a visualization that show the result (the straight line created by fitting your model to your training data) in relation to the trainingset and another visualization that show the result in relation to the testset. Use one code cell for each coding."
      ]
    },
    {
      "cell_type": "code",
      "metadata": {
        "id": "OlELbiLKS0pT",
        "colab": {
          "base_uri": "https://localhost:8080/",
          "height": 369
        },
        "outputId": "6f0f50cf-1d77-4f83-d5dc-5e744c5a809a"
      },
      "source": [
        "#C5- Code for visualising traningdata and trained model\n",
        "\n",
        "sns.displot(df_compare)\n",
        "plt.show()\n"
      ],
      "execution_count": 225,
      "outputs": [
        {
          "output_type": "display_data",
          "data": {
            "image/png": "[encoded data removed]",
            "text/plain": [
              "<Figure size 418.25x360 with 1 Axes>"
            ]
          },
          "metadata": {
            "tags": [],
            "needs_background": "light"
          }
        }
      ]
    },
    {
      "cell_type": "code",
      "metadata": {
        "id": "jyo90r_HS0pT",
        "colab": {
          "base_uri": "https://localhost:8080/",
          "height": 265
        },
        "outputId": "30ad2815-77f5-4d5b-f373-950b4b6d5e6f"
      },
      "source": [
        "#C6- Code for visualising testdata and trained model\n",
        "\n",
        "plt.scatter(x_test, y_test,  color='red')\n",
        "plt.scatter(x_train, y_train, color='blue')\n",
        "plt.show()\n"
      ],
      "execution_count": 226,
      "outputs": [
        {
          "output_type": "display_data",
          "data": {
            "image/png": "[encoded data removed]",
            "text/plain": [
              "<Figure size 432x288 with 1 Axes>"
            ]
          },
          "metadata": {
            "tags": [],
            "needs_background": "light"
          }
        }
      ]
    },
    {
      "cell_type": "markdown",
      "metadata": {
        "id": "nhLJP29BS0pT"
      },
      "source": [
        "**Q** What do the two above visualisation show?\n",
        "\n",
        "**Q** Why do we still predic using the training data and not the test data when visualising the result on the testset?\n",
        "\n",
        "**Q** What is the preformance measures of your model? Calculate MSE, R^2 and MRSE on both test and trainingdata using skikit_learn and interpret the result.\n",
        "\n",
        "See scikit_learn library: [MSE/MRSE](https://scikit-learn.org/stable/modules/generated/sklearn.metrics.mean_squared_error.html), #Evaluate on trainingset[r2_score](https://scikit-learn.org/stable/modules/generated/sklearn.metrics.r2_score.html?highlight=r2#sklearn.metrics.r2_score)"
      ]
    },
    {
      "cell_type": "markdown",
      "metadata": {
        "id": "QvD7CT04kPZy"
      },
      "source": [
        "**Q7-** First visualisation shows that the test data has higher value than pred data.\n",
        "The second visualisation shosw that data is collected where the value is 2."
      ]
    },
    {
      "cell_type": "markdown",
      "metadata": {
        "id": "-Uq5pBYzk3jr"
      },
      "source": [
        "**Q8-**Because training data is there to build up a model, while testdata is to validate the model built."
      ]
    },
    {
      "cell_type": "code",
      "metadata": {
        "id": "3s8HODnsLpk2",
        "colab": {
          "base_uri": "https://localhost:8080/"
        },
        "outputId": "a298848d-aaa7-45e2-841d-2968ea5aae06"
      },
      "source": [
        "#C9- MSR training data\n",
        "from sklearn.metrics import mean_squared_error\n",
        "\n",
        "mse_training = mean_squared_error(x_train, y_train)\n",
        "mse_training"
      ],
      "execution_count": 227,
      "outputs": [
        {
          "output_type": "execute_result",
          "data": {
            "text/plain": [
              "194.06701647552805"
            ]
          },
          "metadata": {
            "tags": []
          },
          "execution_count": 227
        }
      ]
    },
    {
      "cell_type": "code",
      "metadata": {
        "id": "oaoK0c7vLpk2",
        "colab": {
          "base_uri": "https://localhost:8080/"
        },
        "outputId": "70ad6368-832c-4fc9-e9eb-6d50bed7f2c7"
      },
      "source": [
        "#C9- MSR test data\n",
        "\n",
        "mse_test = mean_squared_error(x_test, y_test)\n",
        "mse_test"
      ],
      "execution_count": 228,
      "outputs": [
        {
          "output_type": "execute_result",
          "data": {
            "text/plain": [
              "138.31491986132525"
            ]
          },
          "metadata": {
            "tags": []
          },
          "execution_count": 228
        }
      ]
    },
    {
      "cell_type": "code",
      "metadata": {
        "colab": {
          "base_uri": "https://localhost:8080/"
        },
        "id": "BoBMk7YwxNMW",
        "outputId": "3983dbb3-b589-4416-e944-3c08dfe84a83"
      },
      "source": [
        "#C9- RMSE training data\n",
        "import math\n",
        "\n",
        "rmse_training = math.sqrt(mse_training)\n",
        "rmse_training"
      ],
      "execution_count": 229,
      "outputs": [
        {
          "output_type": "execute_result",
          "data": {
            "text/plain": [
              "13.930793820724217"
            ]
          },
          "metadata": {
            "tags": []
          },
          "execution_count": 229
        }
      ]
    },
    {
      "cell_type": "code",
      "metadata": {
        "colab": {
          "base_uri": "https://localhost:8080/"
        },
        "id": "4HG_dVHoytez",
        "outputId": "ca294c06-9ad8-4937-d8ac-4709b426660a"
      },
      "source": [
        "#C9- RMSE test data \n",
        "\n",
        "rmse_test = math.sqrt(mse_test)\n",
        "rmse_test"
      ],
      "execution_count": 230,
      "outputs": [
        {
          "output_type": "execute_result",
          "data": {
            "text/plain": [
              "11.760736365607608"
            ]
          },
          "metadata": {
            "tags": []
          },
          "execution_count": 230
        }
      ]
    },
    {
      "cell_type": "code",
      "metadata": {
        "colab": {
          "base_uri": "https://localhost:8080/"
        },
        "id": "0i2YQ3YQy-Rr",
        "outputId": "1f5ffe2a-e9db-41d5-fb3d-9aaa822b2339"
      },
      "source": [
        "#C9- R^2 training data\n",
        "from sklearn.metrics import r2_score\n",
        "\n",
        "r2_score(x_train, y_train)"
      ],
      "execution_count": 231,
      "outputs": [
        {
          "output_type": "execute_result",
          "data": {
            "text/plain": [
              "-8.682037789655372"
            ]
          },
          "metadata": {
            "tags": []
          },
          "execution_count": 231
        }
      ]
    },
    {
      "cell_type": "code",
      "metadata": {
        "colab": {
          "base_uri": "https://localhost:8080/"
        },
        "id": "J_hDPPHAzcJ8",
        "outputId": "02c10e3d-12e0-4b9e-97d3-d1159e4ea60c"
      },
      "source": [
        "#C9- R^2 test data\n",
        "\n",
        "r2_score(x_test, y_test)"
      ],
      "execution_count": 232,
      "outputs": [
        {
          "output_type": "execute_result",
          "data": {
            "text/plain": [
              "-10.341949476119437"
            ]
          },
          "metadata": {
            "tags": []
          },
          "execution_count": 232
        }
      ]
    },
    {
      "cell_type": "markdown",
      "metadata": {
        "id": "YNPV8liLLpk2"
      },
      "source": [
        "There is something strange about our r2_score, it is higher on the testset compared to the trainingset. This is against what we have learned, that models always perform better on trainingset compared to testset.\n",
        "\n",
        "**Q** Why might that be? \n",
        "\n",
        "**Q** What can we do to make it better?"
      ]
    },
    {
      "cell_type": "markdown",
      "metadata": {
        "id": "cnIoeBsxTbij"
      },
      "source": [
        "**Q 10-** I think that it can depends on that the model fits our data badly or i did not set an intercept."
      ]
    },
    {
      "cell_type": "markdown",
      "metadata": {
        "id": "gJOML8FLTeZ6"
      },
      "source": [
        "**Q 11-** We can make a better model."
      ]
    },
    {
      "cell_type": "markdown",
      "metadata": {
        "id": "Bgt73hE9S0pT"
      },
      "source": [
        "In order to see how or model performs we can also build a distribution plot of the actual values and the predicted values, this is done in the code below. \n",
        "\n",
        "**Q** Interpret the curves, what does it tell about the performance of the model?"
      ]
    },
    {
      "cell_type": "code",
      "metadata": {
        "id": "S2NW_nJCS0pT",
        "colab": {
          "base_uri": "https://localhost:8080/",
          "height": 405
        },
        "outputId": "663b68c9-eb5b-4037-dc1f-56d4bfa300d2"
      },
      "source": [
        "sns.distplot(y_pred_test, hist = False, color = 'r', label = 'Predicted Values')\n",
        "sns.distplot(y_test, hist = False, color = 'b', label = 'Actual Values')\n",
        "plt.title('Actual vs Predicted Values', fontsize = 16)\n",
        "plt.xlabel('Values', fontsize = 12)\n",
        "plt.ylabel('Frequency', fontsize = 12)\n",
        "plt.legend(loc = 'upper left', fontsize = 13)"
      ],
      "execution_count": 233,
      "outputs": [
        {
          "output_type": "stream",
          "text": [
            "/usr/local/lib/python3.7/dist-packages/seaborn/distributions.py:2557: FutureWarning: `distplot` is a deprecated function and will be removed in a future version. Please adapt your code to use either `displot` (a figure-level function with similar flexibility) or `kdeplot` (an axes-level function for kernel density plots).\n",
            "  warnings.warn(msg, FutureWarning)\n",
            "/usr/local/lib/python3.7/dist-packages/seaborn/distributions.py:2557: FutureWarning: `distplot` is a deprecated function and will be removed in a future version. Please adapt your code to use either `displot` (a figure-level function with similar flexibility) or `kdeplot` (an axes-level function for kernel density plots).\n",
            "  warnings.warn(msg, FutureWarning)\n"
          ],
          "name": "stderr"
        },
        {
          "output_type": "execute_result",
          "data": {
            "text/plain": [
              "<matplotlib.legend.Legend at 0x7f8c786f86d0>"
            ]
          },
          "metadata": {
            "tags": []
          },
          "execution_count": 233
        },
        {
          "output_type": "display_data",
          "data": {
            "image/png": "[encoded data removed]",
            "text/plain": [
              "<Figure size 432x288 with 1 Axes>"
            ]
          },
          "metadata": {
            "tags": [],
            "needs_background": "light"
          }
        }
      ]
    },
    {
      "cell_type": "markdown",
      "metadata": {
        "id": "tnBb6xEILpk3"
      },
      "source": [
        "**Q 12-** The model shows that our actual values is lower than the predicted values. Actual values is \n"
      ]
    },
    {
      "cell_type": "markdown",
      "metadata": {
        "id": "PrDeamQCS0pU"
      },
      "source": [
        "## Multiple linear regression"
      ]
    },
    {
      "cell_type": "markdown",
      "metadata": {
        "id": "Mxs29cGPS0pU"
      },
      "source": [
        "### Your next task in regards to modeling is to perform a multiple linear regression in order to predic the same y.\n",
        "\n",
        "**Q** What varaibles from your dataset are appropriate to add to x to have more variables as input? Why?\n",
        "\n",
        "**C** Perform a multiple linear regression in a similar fashion as you did while performing the simple linear regression, start by assigning appropriate columns to X and y (y should be the same as in the simple linear regression).\n",
        "\n",
        "*It is preferable to use other names for your variables so as not to create confusion or overwrite variables by misstake.*\n",
        "\n",
        "**C** Evaluate your model using the same measurements as for the simple linear regression.\n",
        "\n",
        "**C** Create a visualization that show the difference between real values and predicted values on testdata (see simple linear regression visualization).\n",
        "\n",
        "**Q** Why is it difficult to create a visualization that show the result on training and testdata, similar to the ones we did in the simple linear regression above?\n",
        "\n",
        "**Q** How do the models differ? Which one is better than the other? Why?\n",
        "\n",
        "*To answer the questions and do the required coding, please use one codeblock per question to facilitate the checking of your assignment.*"
      ]
    },
    {
      "cell_type": "markdown",
      "metadata": {
        "id": "lIoNDFnv5YR1"
      },
      "source": [
        "**Q1**- Wind speed, because if we look at the earlier pairplot, we se that Wind spped values have a relation to temperature and it is appropriate to add to x."
      ]
    },
    {
      "cell_type": "code",
      "metadata": {
        "id": "o3UnyLTkS0pU"
      },
      "source": [
        "#Assign variables to X and y \n",
        "x_ml = weather_data.iloc[:, 1:2]\n",
        "y= weather_data['Humidity']\n"
      ],
      "execution_count": 244,
      "outputs": []
    },
    {
      "cell_type": "code",
      "metadata": {
        "id": "Hpgf3rVSS0pV"
      },
      "source": [
        "#Split the dataset in train and test\n",
        "x_ml_train, x_ml_test, y_ml_train, y_ml_test = train_test_split(x_ml, y, test_size=0.2, random_state=42)\n"
      ],
      "execution_count": 245,
      "outputs": []
    },
    {
      "cell_type": "code",
      "metadata": {
        "id": "uPl-OiYBS0pV",
        "colab": {
          "base_uri": "https://localhost:8080/"
        },
        "outputId": "3c836573-5bf6-4bc2-a01f-d43aae37ca94"
      },
      "source": [
        "#Train using trainingset and predict using testset\n",
        "lm_model = LinearRegression(fit_intercept=True)\n",
        "lm_model.fit(x_ml_train, y_ml_train)\n",
        "\n",
        "y_ml_pred_train =lr_model.predict(x_ml_train)\n",
        "y_ml_pred_test = lr_model.predict(x_ml_test)\n",
        "\n",
        "\n",
        "theta_0 = lm_model.intercept_\n",
        "theta_1 = lm_model.coef_\n",
        "theta_0, theta_1\n"
      ],
      "execution_count": 246,
      "outputs": [
        {
          "output_type": "execute_result",
          "data": {
            "text/plain": [
              "(0.9525803380037673, array([-0.02007598]))"
            ]
          },
          "metadata": {
            "tags": []
          },
          "execution_count": 246
        }
      ]
    },
    {
      "cell_type": "code",
      "metadata": {
        "id": "xQx9NXUBK8uG"
      },
      "source": [
        "#Evaluate\n"
      ],
      "execution_count": null,
      "outputs": []
    },
    {
      "cell_type": "code",
      "metadata": {
        "id": "VcsDkluyLpk4",
        "colab": {
          "base_uri": "https://localhost:8080/",
          "height": 265
        },
        "outputId": "c1113f10-eda3-47d1-ce7c-2af5711144d9"
      },
      "source": [
        "#Visualize the difference between real values and predicted values on testdata\n",
        "plt.scatter(x_ml_test, y_ml_test,  color='red')\n",
        "plt.scatter(x_ml_train, y_ml_train, color='blue')\n",
        "plt.show()"
      ],
      "execution_count": 247,
      "outputs": [
        {
          "output_type": "display_data",
          "data": {
            "image/png": "[encoded data removed]",
            "text/plain": [
              "<Figure size 432x288 with 1 Axes>"
            ]
          },
          "metadata": {
            "tags": [],
            "needs_background": "light"
          }
        }
      ]
    }
  ]
}